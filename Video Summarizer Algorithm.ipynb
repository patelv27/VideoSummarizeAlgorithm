{
 "cells": [
  {
   "cell_type": "code",
   "execution_count": 1,
   "metadata": {},
   "outputs": [],
   "source": [
    "import re\n",
    "import pandas as pd\n",
    "import numpy as np\n",
    "import sklearn as sk\n",
    "import nltk\n",
    "from nltk.stem import WordNetLemmatizer\n",
    "import string\n",
    "from sklearn.cluster import KMeans\n",
    "import matplotlib.pyplot as plt\n"
   ]
  },
  {
   "cell_type": "code",
   "execution_count": 19,
   "metadata": {},
   "outputs": [
    {
     "name": "stdout",
     "output_type": "stream",
     "text": [
      "['\\ufeff00:09\\n', \"OK, here's linear algebra lecture seven.\\n\", '00:14\\n', \"I've been talking about vector spaces\\n\", '00:19\\n', 'and specially the null space of a matrix\\n', '00:24\\n', 'and the column space of a matrix.\\n', '00:26\\n', \"What's in those spaces.\\n\", '00:28\\n', 'Now I want to actually describe them.\\n', '00:32\\n', 'How do you describe all the vectors\\n', '00:36\\n', 'that are in those spaces?\\n', '00:37\\n', 'How do you compute these things?\\n', '00:39\\n', 'So this is the, turning the idea, the definition,\\n', '00:46\\n', 'into an algorithm.\\n', '00:48\\n', \"What's the algorithm for solving A x =0?\\n\", '00:53\\n', \"So that's the null space that I'm interested in.\\n\", '00:56\\n', 'So can I take a particular matrix A and describe\\n', '01:01\\n', \"the natural algorithm, and I'll execute it for that matrix --\\n\", '01:06\\n', 'here we go.\\n', '01:08\\n', 'So let me take the matrix as an example.\\n', '01:12\\n', \"So we're definitely talking rectangular matrices in this\\n\", '01:16\\n', 'chapter.\\n', '01:17\\n', \"So I'll make, I'll have four columns.\\n\", '01:22\\n', 'And three rows.\\n', '01:24\\n', 'Two four six eight and three six eight ten.\\n', '01:32\\n', 'OK.\\n', '01:36\\n', 'If I just look at those columns, and rows, well,\\n', '01:42\\n', 'I notice right away that column two\\n', '01:45\\n', 'is a multiple of column one.\\n', '01:47\\n', \"It's in the same direction as column one.\\n\", '01:50\\n', \"It's not independent.\\n\", '01:52\\n', \"I'll expect to discover that in the process.\\n\", '01:56\\n', 'Actually, with rows, I notice that that row plus this row\\n', '02:01\\n', 'gives the third row.\\n', '02:03\\n', 'So the third row is not independent.\\n', '02:07\\n', 'So, all that should come out of elimination.\\n', '02:12\\n', 'So now what I --\\n', '02:14\\n', 'my algorithm is elimination, but extended now\\n', '02:19\\n', 'to the rectangular case, where we\\n', '02:23\\n', \"have to continue even if there's zeros in the pivot position,\\n\", '02:30\\n', 'we go on.\\n', '02:31\\n', 'OK, so let me execute elimination for that matrix.\\n', '02:36\\n', \"My goal is always, while I'm doing elimination --\\n\", '02:42\\n', \"I'm not changing the null space.\\n\", '02:44\\n', \"That's very important, right?\\n\", '02:46\\n', \"I'm solving A x equals zero by elimination,\\n\", '02:50\\n', 'and when I do these operations that you already know,\\n', '02:53\\n', 'when I subtract a multiple of one\\n', '02:56\\n', \"equation from another equation, I'm not changing the solutions.\\n\", '03:02\\n', \"So I'm not changing the null space.\\n\", '03:04\\n', \"Actually, I changing the column space, as you'll see.\\n\", '03:08\\n', 'So you have to pay attention.\\n', '03:10\\n', 'What does elimination leave unchanged?\\n', '03:13\\n', 'And the answer is the solutions to the system are not changed\\n', '03:18\\n', \"because I'm doing the same thing to --\\n\", '03:20\\n', \"I'm doing a legitimate operations on the equations.\\n\", '03:24\\n', \"Of course, on the right hand side it's always zero,\\n\", '03:27\\n', \"and I don't plan to write zero all the time.\\n\", '03:30\\n', \"OK, so I'm really just working on the left side,\\n\", '03:33\\n', 'but the right side is, is keeping up always zeros.\\n', '03:39\\n', \"OK, so what's elimination?\\n\", '03:41\\n', 'Well, you know where the first pivot is\\n', '03:44\\n', 'and you know what to do\\n', '03:46\\n', 'with it.\\n', '03:46\\n', 'So can I just take the first step below here?\\n', '03:51\\n', 'So that pivot row is fine.\\n', '03:55\\n', 'I take two times that row away from this one and I get zero\\n', '04:00\\n', 'zero.\\n', '04:01\\n', \"That's signaling a difficulty.\\n\", '04:03\\n', 'Two, two twos away from the six leaves me with a two.\\n', '04:07\\n', 'Two twos away from the eight leaves me with a four.\\n', '04:10\\n', 'And now three of those away from here\\n', '04:13\\n', 'is zero, again another zero, three twos away\\n', '04:17\\n', 'from that eight is the two, three twos away\\n', '04:20\\n', 'from that ten is a four.\\n', '04:22\\n', 'OK.\\n', '04:23\\n', \"That's the first stage of elimination.\\n\", '04:26\\n', \"I've got the first column straight.\\n\", '04:31\\n', 'So of course I move on to the second column.\\n', '04:35\\n', 'I look in that position, I see a zero.\\n', '04:39\\n', 'I look below it, hoping for a non-zero\\n', '04:43\\n', 'that I can do a row exchange.\\n', '04:44\\n', \"But it's zero below.\\n\", '04:47\\n', \"So that's telling me that that column is -- well,\\n\", '04:53\\n', \"what it's really going to be telling me is that that column\\n\", '04:56\\n', 'is a combination of the earlier columns.\\n', '04:59\\n', \"It's that second column is dependent on the earlier\\n\", '05:04\\n', 'columns.\\n', '05:04\\n', \"But I don't stop to think here.\\n\", '05:09\\n', \"In that column there's nothing to do.\\n\", '05:11\\n', 'I go on to the next.\\n', '05:12\\n', \"So here's the next pivot.\\n\", '05:15\\n', \"So there's the first pivot and there's the second pivot,\\n\", '05:18\\n', 'and I just keep this elimination going downwards.\\n', '05:22\\n', 'So, so the next step keeps the first row,\\n', '05:30\\n', 'keeps the second row with its pivot,\\n', '05:34\\n', \"so I've got my two pivots, and does elimination\\n\", '05:40\\n', 'to clear out the column below that pivot.\\n', '05:44\\n', 'So actually you see the multiplier is one.\\n', '05:47\\n', 'It subtracts row two from row three\\n', '05:50\\n', 'and produces a row of zeros.\\n', '05:53\\n', 'OK.\\n', '05:54\\n', 'That I would call that matrix U, right?\\n', '05:59\\n', \"That's our upper --\\n\", '06:01\\n', \"well, I can't quite say upper triangular.\\n\", '06:05\\n', \"Maybe upper -- I don't know -- upper something.\\n\", '06:12\\n', \"It's in this so-called echelon form.\\n\", '06:17\\n', 'The word echelon means, like, staircase form.\\n', '06:21\\n', \"It's the, the non-zeros come in that staircase form.\\n\", '06:25\\n', 'If there was another pivot here, then the staircase\\n', '06:30\\n', 'would include that.\\n', '06:32\\n', \"But here's a case where we have two pivots only.\\n\", '06:37\\n', \"OK, so actually we've already discovered the most important\\n\", '06:41\\n', 'number about this matrix.\\n', '06:44\\n', 'The number of pivots is two.\\n', '06:48\\n', 'That number we will call the rank of the matrix.\\n', '06:51\\n', 'So let me put immediately.\\n', '06:54\\n', 'The rank of A --\\n', '06:58\\n', \"so I'm telling you what this word\\n\", '07:00\\n', 'rank means in the algorithm.\\n', '07:04\\n', \"It's equal to the number of pivots.\\n\", '07:08\\n', 'And in this case, two.\\n', '07:12\\n', 'OK, for me that number two is the crucial number.\\n', '07:17\\n', \"OK, now I go to -- you remember I'm always solving A x equals\\n\", '07:22\\n', 'zero, but now I can solve U x equals zero, right?\\n', '07:26\\n', 'Same solution, same null space.\\n', '07:29\\n', 'OK.\\n', '07:30\\n', 'So I could stop here --\\n', '07:32\\n', \"why don't I stop here and do the back substitution.\\n\", '07:36\\n', 'So now I have to ask you, how do I describe the solutions?\\n', '07:42\\n', 'There are solutions, right, to A x equals zero.\\n', '07:45\\n', 'I knew there would be.\\n', '07:47\\n', 'I had three equations in four unknowns.\\n', '07:50\\n', 'I certainly expected some solutions.\\n', '07:52\\n', 'Now I want to see what are they.\\n', '07:55\\n', \"OK, here's the critical step.\\n\", '07:59\\n', 'I refer to it up here as separating out\\n', '08:04\\n', 'the pivot variables, the pivot columns, which are these two.\\n', '08:09\\n', 'Here I have two pivot columns.\\n', '08:13\\n', \"Those, obviously, they're the columns with the pivots.\\n\", '08:15\\n', 'So I have two pivot columns.\\n', '08:22\\n', \"And I have the other columns, I'll call free.\\n\", '08:27\\n', 'These are free columns, OK.\\n', '08:32\\n', 'Why do I use those words?\\n', '08:35\\n', 'Why do I use that word free?\\n', '08:38\\n', 'Because now I want to write, I want to find the solutions to U\\n', '08:43\\n', 'x equals zero.\\n', '08:45\\n', 'Here is the way I do it.\\n', '08:48\\n', 'These free columns I can assign any number freely to those --\\n', '08:58\\n', 'to the variables x2 and x4, the ones that multiply\\n', '09:03\\n', 'columns two and four.\\n', '09:06\\n', 'So I can assign anything I like to x2 and x4.\\n', '09:10\\n', 'And then I can solve the equations for x1 and x3.\\n', '09:17\\n', 'Let me say that again.\\n', '09:19\\n', 'If I give -- let me, let me assign.\\n', '09:22\\n', 'So, so one particular x is to assign, say, the value one\\n', '09:29\\n', 'to the, to x2, and zero to x4.\\n', '09:33\\n', 'Those are -- that was a free choice,\\n', '09:35\\n', \"but it's a convenient choice.\\n\", '09:38\\n', 'OK.\\n', '09:38\\n', 'Now I want to solve U x equals zero\\n', '09:41\\n', 'and find numbers one and three, complete the solution.\\n', '09:47\\n', 'Can I write down --\\n', '09:49\\n', \"let's see.\\n\", '09:49\\n', 'OK.\\n', '09:50\\n', 'Shall we just remember what U x equals zero represents?\\n', '09:53\\n', 'What are my equations?\\n', '09:54\\n', 'That first equation is x1 plus just --\\n', '10:00\\n', \"I'm just saying what are these matrices meaning.\\n\", '10:05\\n', \"That's the first equation.\\n\", '10:07\\n', 'And the second equation was 2x3 + 4x4=0.\\n', '10:14\\n', 'Those are my two equations.\\n', '10:16\\n', 'OK.\\n', '10:17\\n', 'Now the point is I can find x1 and x3 by back substitution.\\n', '10:24\\n', \"So we're building on what we already know.\\n\", '10:27\\n', 'The new thing is that there were some free variables that I\\n', '10:31\\n', 'could give any numbers to.\\n', '10:34\\n', \"And I'm systematically going to make a choice like this, Now\\n\", '10:38\\n', 'what is x3?\\n', '10:38\\n', '1 and 0.\\n', '10:39\\n', \"Let's, let's go backwards, back up.\\n\", '10:42\\n', 'I look at the last equation.\\n', '10:45\\n', 'x3 is zero, from the last equation,\\n', '10:50\\n', \"because, because x4 we've set x4 to zero,\\n\", '10:55\\n', 'and then we get x3 as zero.\\n', '10:58\\n', 'OK.\\n', '10:58\\n', 'Now we set x2 to be one, so what is x1?\\n', '11:03\\n', 'Negative two, right?\\n', '11:06\\n', 'So then I have negative two plus two, zero and zero,\\n', '11:10\\n', 'correctly giving zero.\\n', '11:11\\n', 'There is a vector in the null space.\\n', '11:14\\n', 'There is a solution to A x equals zero.\\n', '11:17\\n', 'In fact, what solution is that?\\n', '11:19\\n', 'That simply says that minus two times the first column\\n', '11:24\\n', 'plus one times the second column is the zero column.\\n', '11:28\\n', \"Of course that's right.\\n\", '11:29\\n', 'Minus two of that column plus one of that, or minus two\\n', '11:33\\n', 'of that plus one of that.\\n', '11:35\\n', \"That solution is -- that, that's just what we saw immediately,\\n\", '11:39\\n', 'that the second column is twice as big as the first column.\\n', '11:43\\n', 'OK, tell me some more vectors in the null space.\\n', '11:48\\n', 'I found one.\\n', '11:51\\n', 'Tell me, how to get a bunch more immediately out of that one.\\n', '11:58\\n', 'Just take multiples of it.\\n', '11:59\\n', 'Any multiple of --\\n', '12:01\\n', 'I could multiply this by anything.\\n', '12:04\\n', 'I might as well call it, I could say, C, some multiple of this.\\n', '12:08\\n', 'So let me --\\n', '12:10\\n', 'so X could be any multiple of this one.\\n', '12:14\\n', 'OK, that, that describes now a line,\\n', '12:17\\n', 'an infinitely long line in four dimensional space.\\n', '12:23\\n', 'But -- which is in the null space.\\n', '12:26\\n', 'Is that the whole null space?\\n', '12:29\\n', 'No.\\n', '12:30\\n', \"I've got two free variables here.\\n\", '12:34\\n', 'I made this choice, one and zero, for the free variables,\\n', '12:37\\n', 'but I could have made another choice.\\n', '12:40\\n', 'Let me make the other choice zero and one.\\n', '12:44\\n', 'You see my system.\\n', '12:47\\n', 'So let me repeat the system.\\n', '12:48\\n', 'This is the algorithm that you, you just learned to do.\\n', '12:56\\n', 'Do elimination.\\n', '12:59\\n', 'Decide which are the pivot columns\\n', '13:01\\n', 'and which are the free columns.\\n', '13:02\\n', 'That tells you that, that variables one and three\\n', '13:05\\n', 'are pivot variables, two and four are free variables.\\n', '13:09\\n', 'Then those free variables, you assign them --\\n', '13:14\\n', 'you give one of them the value one and the others the value\\n', '13:17\\n', 'zero -- in this case, we had a one and a zero --\\n', '13:22\\n', 'and complete the solution.\\n', '13:24\\n', 'And you do -- you give the other one the value one and zero.\\n', '13:28\\n', 'And now complete the solution.\\n', '13:30\\n', \"So let's complete that solution.\\n\", '13:32\\n', \"I'm looking for a vector in the null space,\\n\", '13:35\\n', \"and it's absolutely going to be different from this guy,\\n\", '13:38\\n', 'because, because any multiple of that zero\\n', '13:42\\n', 'is never going to give the one.\\n', '13:43\\n', 'So I have somebody new in the null space,\\n', '13:46\\n', 'and let me finish it\\n', '13:46\\n', 'out.\\n', '13:47\\n', \"What's x3 here?\\n\", '13:50\\n', \"So we're going by back substitution,\\n\", '13:52\\n', 'looking at this equation.\\n', '13:53\\n', \"Now x4 we've changed, we're doing the other possibility,\\n\", '13:59\\n', 'where x2 is zero and x4 is one.\\n', '14:02\\n', 'So x3 will happen to be minus two.\\n', '14:06\\n', 'And now what do I get for that first equation?\\n', '14:10\\n', \"x1 -- let's see.\\n\", '14:12\\n', 'Two x3s is minus four plus two -- do I get a two there?\\n', '14:19\\n', 'Perhaps, yeah.\\n', '14:20\\n', 'Two for x1, minus four, and two.\\n', '14:25\\n', 'OK.\\n', '14:26\\n', \"That's in the null space.\\n\", '14:28\\n', 'What does that say about the columns?\\n', '14:32\\n', 'That says that two of this column minus two\\n', '14:37\\n', 'of this column plus this column gives zero, which it does.\\n', '14:41\\n', 'Two of that minus two of that and one of that\\n', '14:46\\n', 'gives the zero column.\\n', '14:47\\n', \"OK, now, now I've found another vector in the null space.\\n\", '14:52\\n', \"Now we're ready to tell me the whole null space.\\n\", '14:55\\n', 'What are all the solutions to Ax=0?\\n', '15:00\\n', \"I've got this guy and when I have him,\\n\", '15:05\\n', 'what else is, goes into the null space along with that?\\n', '15:10\\n', 'These are my two special solutions.\\n', '15:13\\n', 'I call them special --\\n', '15:14\\n', 'I just invented that name.\\n', '15:16\\n', 'Special solutions.\\n', '15:18\\n', \"What's special about them is the special numbers\\n\", '15:21\\n', 'I gave to the free variables, the values zero and one\\n', '15:27\\n', 'for the free variables.\\n', '15:29\\n', 'I could have given the free variables any values\\n', '15:32\\n', 'and got vectors in the null space.\\n', '15:35\\n', 'But this was a good way to be sure I got t- got everybody.\\n', '15:40\\n', 'OK, so once I have him, I also have any multiple, right?\\n', '15:45\\n', 'So I could take any multiple of that\\n', '15:48\\n', \"and it's in the null space.\\n\", '15:50\\n', 'And now what else --\\n', '15:52\\n', 'I left a little space for what?\\n', '15:55\\n', 'What -- a plus sign.\\n', '15:58\\n', 'I can take any combination.\\n', '16:00\\n', 'Here is a line of vectors in the null space.\\n', '16:04\\n', 'A bunch of solutions.\\n', '16:06\\n', 'Would you rather I say in the null space or would you rather\\n', '16:09\\n', \"I say, OK, I'm solving Ax=0?\\n\", '16:13\\n', \"Well, really I'm solving Ux=0.\\n\", '16:19\\n', 'Well, OK, let me put in that crucial plus sign.\\n', '16:23\\n', \"I'm taking all the combinations of my two special solutions.\\n\", '16:29\\n', \"That's my conclusion there.\\n\", '16:32\\n', 'The null space contains, contains exactly\\n', '16:37\\n', 'all the combinations of the special solutions.\\n', '16:42\\n', 'And how many special solutions are there?\\n', '16:46\\n', \"There's one for every free variable.\\n\", '16:49\\n', 'And how many free variables are there?\\n', '16:51\\n', 'Oh, I mean, we can see all the whole picture now.\\n', '16:54\\n', 'If the rank R was two, this is the,\\n', '16:59\\n', 'this is the number of pivot variables, right,\\n', '17:04\\n', 'because it counted the pivots.\\n', '17:08\\n', 'So how many free variables?\\n', '17:11\\n', \"Well, you know it's two, right?\\n\", '17:14\\n', \"What is it in -- for a matrix that's m rows, n columns,\\n\", '17:20\\n', 'n variables that means, with rank r?\\n', '17:25\\n', 'How many free variables have we got left?\\n', '17:28\\n', 'If r of the variables are pivot variables, we have n-r --\\n', '17:34\\n', 'in this case four minus two -- free variables.\\n', '17:38\\n', 'Do you see that first of all we get clean answers here?\\n', '17:53\\n', 'We get r pivot variables -- so there really were r equations\\n', '17:59\\n', 'here.\\n', '18:00\\n', 'There looked like three equations,\\n', '18:01\\n', 'but there were really only two independent equations.\\n', '18:05\\n', 'And there were n-r variables that we could choose freely,\\n', '18:11\\n', 'and we gave them those special zero one values,\\n', '18:16\\n', 'and we got the special solutions.\\n', '18:19\\n', 'OK.\\n', '18:22\\n', 'For me -- we could stop at that point.\\n', '18:25\\n', 'That gives you a complete algorithm\\n', '18:28\\n', 'for finding all the solutions to A x equals zero.\\n', '18:34\\n', 'OK.\\n', '18:38\\n', 'Again, you do elimination --\\n', '18:41\\n', \"going onward when a column, when there's nothing\\n\", '18:46\\n', 'to be done on one column, you just continue.\\n', '18:50\\n', \"There's this number r, the number of pivots, is crucial,\\n\", '18:55\\n', 'and it leaves n-r free variables, which you\\n', '19:01\\n', 'give values zero and one to.\\n', '19:03\\n', 'I would like to take one more step.\\n', '19:08\\n', 'I would like to clean up this matrix even more.\\n', '19:12\\n', \"So now I'm going to go to -- this is in its,\\n\", '19:14\\n', 'this is in echelon form, upper triangular if you like.\\n', '19:20\\n', 'I want to go one more step to make it as good as it can be.\\n', '19:25\\n', \"OK, so now I'm going to speak about the reduced row echelon\\n\", '19:31\\n', 'form.\\n', '19:32\\n', \"OK, so now I'm going to speak about the matrix R, which is\\n\", '19:35\\n', 'the reduced row echelon form.\\n', '19:44\\n', 'So what does that mean?\\n', '19:46\\n', 'That means I just --\\n', '19:49\\n', 'I can, I can work harder on U.\\n', '19:52\\n', 'So let me start, let me suppose I got as far\\n', '19:55\\n', 'as U, which was good.\\n', '20:08\\n', 'Notice how that row of zeros appeared.\\n', '20:11\\n', \"I didn't comment on that, but I should have.\\n\", '20:15\\n', 'That row of zeros up here is because row three was\\n', '20:20\\n', 'a combination of rows one and two,\\n', '20:23\\n', 'and elimination discovered that fact.\\n', '20:27\\n', \"When we get a row of zeros, that's telling us that the --\\n\", '20:32\\n', 'original row that was there was a combination of other rows,\\n', '20:38\\n', 'and elimination knocked it out.\\n', '20:42\\n', 'OK, so we got this far.\\n', '20:44\\n', 'Now how can I clean that up further?\\n', '20:47\\n', 'I can do, elimination upwards.\\n', '20:51\\n', 'I can get zero above the pivots.\\n', '20:54\\n', 'So this reduced row echelon form has zeros\\n', '20:58\\n', 'above and below the pivots.\\n', '21:08\\n', 'So let me do that.\\n', '21:11\\n', \"So now I'll subtract one of this from the row above.\\n\", '21:14\\n', 'That will leave a zero and a minus two in there.\\n', '21:20\\n', \"And that's good.\\n\", '21:26\\n', 'OK, and I can clean it up even one more step.\\n', '21:30\\n', 'I can make the pivots --\\n', '21:33\\n', \"the pivots I'm going to make equal to one, because I can\\n\", '21:37\\n', 'divide equation two by the pivot.\\n', '21:41\\n', \"That won't change the solutions.\\n\", '21:44\\n', 'So let me do that.\\n', '21:45\\n', 'And then I really --\\n', '21:46\\n', \"I'm ready to stop.\\n\", '21:47\\n', 'One, two, zero, minus two, zero, zero, one, two.\\n', '21:53\\n', 'I divided the second equation by two,\\n', '21:58\\n', 'because now I have a one in the pivot and zeros below.\\n', '22:05\\n', 'OK.\\n', '22:06\\n', 'This is my matrix R.\\n', '22:14\\n', \"I guess I'm hoping that you could now\\n\", '22:17\\n', 'execute the whole algorithm.\\n', '22:21\\n', 'Matlab will do it immediately with the command --\\n', '22:30\\n', 'reduced row echelon form of A.\\n', '22:34\\n', 'So if I input that original matrix A\\n', '22:37\\n', 'and then I write, then I type that command, press return,\\n', '22:43\\n', 'that matrix will appear.\\n', '22:46\\n', \"That's the reduced row echelon form,\\n\", '22:49\\n', \"and it's got all the information as clear as can be.\\n\", '23:00\\n', 'What, what information has it got?\\n', '23:01\\n', 'Well, of course it immediately tells me\\n', '23:04\\n', 'the pivot rows, pivot rows, one and two,\\n', '23:08\\n', 'pivot columns, one and three.\\n', '23:11\\n', \"And in fact it's got the identity matrix in there,\\n\", '23:15\\n', \"It's, it's got zeros above and below the pivots, right?\\n\", '23:18\\n', \"and the pivots are one, so it's, so it's got a --\\n\", '23:22\\n', \"so notice the two by two identity matrix that's sitting\\n\", '23:30\\n', 'in the pivot rows and pivot columns.\\n', '23:33\\n', \"it's I in the pivot rows and columns.\\n\", '23:46\\n', \"It's got zero rows below.\\n\", '23:52\\n', 'Those are always indicating that original rows were,\\n', '23:56\\n', 'were combinations of other rows.\\n', '23:58\\n', 'So we really only had two rows there.\\n', '24:02\\n', \"And now it also -- so there's the identity.\\n\", '24:05\\n', \"Now it's also got its free columns.\\n\", '24:10\\n', \"And, they're cleaned up as much as possible.\\n\", '24:17\\n', \"Actually, actually it's now so cleaned up that the special\\n\", '24:21\\n', 'solutions, I can read off -- you remember I went through\\n', '24:26\\n', 'the steps of computing this --\\n', '24:30\\n', 'doing back substitution?\\n', '24:32\\n', 'Let me, let me, instead of that system,\\n', '24:37\\n', 'let me take this improved system.\\n', '24:39\\n', \"So I'm going to use these numbers, right.\\n\", '24:43\\n', 'In these equations, what did I do?\\n', '24:45\\n', 'I divided this equation by two and, oh yeah\\n', '24:52\\n', 'and I had subtracted two of this,\\n', '24:54\\n', 'which knocked out this guy and made that a minus sign.\\n', '24:58\\n', 'Is that what --\\n', '25:01\\n', \"I've now written Rx equals zero.\\n\", '25:10\\n', \"Now I guess I'm hoping everybody in this room understands\\n\", '25:14\\n', 'the solutions to the original A x equals zero,\\n', '25:19\\n', 'the midway, halfway, U x equals zero,\\n', '25:23\\n', 'and the final R x equals zero are all the same.\\n', '25:27\\n', 'Because going from one of those to another one\\n', '25:30\\n', \"I didn't mess up.\\n\", '25:33\\n', 'I just multiplied equations and subtracted\\n', '25:36\\n', \"from other equations, which I'm allowed to do.\\n\", '25:39\\n', 'OK.\\n', '25:40\\n', 'But my point is that now if I do this free variables\\n', '25:47\\n', \"and back substitution, it's just, the numbers are there.\\n\", '25:52\\n', 'When I let x -- so in this guy, I let x2 be one and x4 be zero.\\n', '26:01\\n', 'I, I guess, what I seeing here?\\n', '26:04\\n', 'Let me, let me sort of separate this out here.\\n', '26:07\\n', \"I'm seeing in the pivot, in the pivot columns,\\n\", '26:12\\n', \"if I, if I put the pivot columns here, I'm seeing those.\\n\", '26:16\\n', \"And I'm -- in the free columns I'm seeing --\\n\", '26:21\\n', 'what I seeing in the free columns?\\n', '26:23\\n', 'A two, zero in that first free column, the x2 column,\\n', '26:29\\n', 'and a minus two, two in the fourth column,\\n', '26:33\\n', 'the other free column.\\n', '26:36\\n', 'And the row of zeros below, which of course have no --\\n', '26:41\\n', 'that equation is zero equals zero.\\n', '26:43\\n', \"That's satisfied.\\n\", '26:46\\n', \"Here's my point.\\n\", '26:48\\n', 'That when I do back substitution,\\n', '26:51\\n', 'these numbers are exactly what shows up --\\n', '26:55\\n', 'oh, their signs get switched.\\n', '26:58\\n', 'I was going to say those numbers, two, minus two, zero,\\n', '27:01\\n', 'two, can I just circle the -- this is the free part\\n', '27:06\\n', 'of the matrix.\\n', '27:07\\n', 'This is the identity part.\\n', '27:10\\n', \"This is the free part, maybe I'll call it F.\\n\", '27:14\\n', \"This, of course, I call I, because it's the identity.\\n\", '27:18\\n', \"The free part is a, I mean, I'm just doing back substitution.\\n\", '27:25\\n', 'And those free numbers will show up, with a minus sign,\\n', '27:29\\n', 'because they pop onto the other side of the equation --\\n', '27:32\\n', 'so I see minus two, zero, and I see two, minus two.\\n', '27:39\\n', \"So that wasn't magic.\\n\", '27:41\\n', 'It had to happen.\\n', '27:43\\n', 'Let me, show you clearly why it happened.\\n', '27:48\\n', \"OK, so that's --\\n\", '27:50\\n', \"this is what I'm interested in here.\\n\", '27:53\\n', 'And now let me, let me just, like, do it, do it for --\\n', '27:59\\n', \"let's suppose we've, we've got to --\\n\", '28:07\\n', \"let's suppose we've got this system already in,\\n\", '28:11\\n', 'in rref form.\\n', '28:18\\n', 'So my matrix R is -- what does it look like?\\n', '28:22\\n', \"OK, and I'll --\\n\", '28:25\\n', 'let me pretend that the pivot columns come first\\n', '28:30\\n', \"and then whatever's in the free columns.\\n\", '28:33\\n', 'And there might be some zero rows below.\\n', '28:37\\n', \"There's a typical --\\n\", '28:40\\n', 'a pretty typical reduced row echelon form.\\n', '28:49\\n', \"You see what's typical.\\n\", '28:51\\n', \"It's got -- this is r by r.\\n\", '28:55\\n', 'This is r pivot rows.\\n', '29:02\\n', 'This is r pivot columns.\\n', '29:09\\n', 'And here are n-r free columns.\\n', '29:16\\n', 'OK.\\n', '29:17\\n', 'Tell me what are the special solutions?\\n', '29:21\\n', 'What are the --\\n', '29:23\\n', \"what's x?\\n\", '29:24\\n', 'If I want to solve R x equals zero --\\n', '29:27\\n', 'in fact, let me --\\n', '29:31\\n', \"I'm really going to, do the whole -- since these --\\n\", '29:36\\n', 'this is now block matrices, I might as well do all\\n', '29:39\\n', 'of the special solutions at once.\\n', '29:41\\n', 'So I want to solve R x equals zero,\\n', '29:44\\n', \"and I'll have some special solutions.\\n\", '29:49\\n', 'Let me, actually --\\n', '29:52\\n', 'can I do them all at once?\\n', '29:54\\n', \"I'm going to create a null space matrix, OK.\\n\", '30:00\\n', 'A matrix.\\n', '30:04\\n', 'Its, its, its columns are the special --\\n', '30:13\\n', 'the columns are the special solutions.\\n', '30:19\\n', \"This is, I'm making it sound harder,\\n\", '30:21\\n', \"it's going to be totally easy.\\n\", '30:22\\n', 'N will be this null space matrix.\\n', '30:25\\n', 'I want R N to be the zero matrix.\\n', '30:31\\n', 'These columns of N are supposed to multipl-\\n', '30:33\\n', 'to get multiplied by R and give zero columns.\\n', '30:37\\n', 'So what N will do the job?\\n', '30:40\\n', 'Let me put --\\n', '30:41\\n', \"I'm going to put the identity in the free variable part\\n\", '30:45\\n', 'and then minus F will show up in the pivot variables, just\\n', '30:54\\n', 'the way it did in that example.\\n', '30:55\\n', 'There we had the identity and F.\\n', '30:58\\n', 'Here -- in the special solution.\\n', '31:02\\n', \"So these columns are -- there's the matrix of special\\n\", '31:05\\n', 'solutions.\\n', '31:06\\n', \"And actually, there -- so there's a Matlab command\\n\", '31:09\\n', 'or a teaching code command, NULL --\\n', '31:14\\n', 'N equal, so this is the --\\n', '31:19\\n', 'produces the null basis, the null space matrix, NULL of A,\\n', '31:24\\n', 'and there it is.\\n', '31:30\\n', 'And how does that command actually work?\\n', '31:33\\n', 'It uses Matlab to compute R, then\\n', '31:38\\n', 'it picks out the pivot variables, the free variables,\\n', '31:43\\n', 'puts, puts ones and zeros in for the free variables,\\n', '31:47\\n', 'and copies out the pivot variables.\\n', '31:51\\n', 'It, it does back substitution, but back substitution\\n', '31:54\\n', 'for this system is totally simple.\\n', '31:57\\n', 'What is this system?\\n', '32:00\\n', 'R x equals zero.\\n', '32:03\\n', 'So this is R is I F, and x is the pivot variables\\n', '32:11\\n', \"and the free variables, and it's supposed to give zero.\\n\", '32:18\\n', 'So what does that mean?\\n', '32:20\\n', 'That means that the pivot variables plus F\\n', '32:24\\n', 'times the free variables give zero.\\n', '32:28\\n', 'So let me put F times the free variables on the other side.\\n', '32:31\\n', 'I get minus F times the free variables.\\n', '32:37\\n', \"There's my, equation, as simple as it can be.\\n\", '32:43\\n', \"That's what back substitution comes\\n\", '32:45\\n', \"to when I've reduced and reduced and reduced this system\\n\", '32:49\\n', 'to the, to the best form, OK.\\n', '32:52\\n', 'And, then if the free variables, I\\n', '32:56\\n', 'make this special choice of the identity,\\n', '33:00\\n', 'then the pivot variables are\\n', '33:02\\n', 'minus F. OK, can I do, another example?\\n', '33:08\\n', 'Could you do another example?\\n', '33:10\\n', 'Can I -- let me just take another matrix\\n', '33:12\\n', \"and, and let's go through this algorithm once more, OK.\\n\", '33:17\\n', 'Here we go.\\n', '33:19\\n', \"Here's a blackboard for another matrix, OK.\\n\", '33:25\\n', \"So I'll call the matrix A again, but let me make it --\\n\", '33:31\\n', 'yeah, how big shall we make it this time?\\n', '33:36\\n', \"Why don't I do this?\\n\", '33:38\\n', 'Just for the heck of it.\\n', '33:39\\n', 'Let me take the transpose of this A and see what happens to\\n', '33:44\\n', 'that.\\n', '33:45\\n', 'Two four six eight and three six eight ten.\\n', '34:00\\n', \"Before we do the calculations, tell me what's coming?\\n\", '34:06\\n', 'How many pivot variables do you expect here?\\n', '34:12\\n', 'How many columns are going to have pivots?\\n', '34:16\\n', 'How many -- we have three columns in that matrix,\\n', '34:22\\n', 'but are we going to, are we going to have three pivots?\\n', '34:25\\n', 'No, because this third columns is the sum of the first two\\n', '34:31\\n', 'columns.\\n', '34:32\\n', \"I'm totally expecting, totally expecting that these will be\\n\", '34:38\\n', 'pivot columns --\\n', '34:41\\n', \"because they're independent, but that this third guy,\\n\", '34:45\\n', 'the third column, which is dependent on the first two,\\n', '34:49\\n', 'is going to be a free column.\\n', '34:52\\n', 'Elimination better discover that.\\n', '34:54\\n', 'And elimination will also straighten out\\n', '34:58\\n', 'the rows, dependent rows and some independent rows.\\n', '35:05\\n', \"What's the, what's the row reduced echelon form for this?\\n\", '35:09\\n', \"Let's just do it, OK.\\n\", '35:11\\n', \"So, so that's the first pivot.\\n\", '35:16\\n', 'Two times that away from that gives me a row of zeros.\\n', '35:20\\n', 'Two times that away from that gives me a zero two two.\\n', '35:24\\n', 'And two times that away from that gives me a zero four four.\\n', '35:32\\n', 'OK, first column is straight.\\n', '35:35\\n', 'First variable is a pivot variable.\\n', '35:37\\n', 'No problem.\\n', '35:39\\n', 'On to the second column.\\n', '35:40\\n', \"I look at the second pivot, it's a zero.\\n\", '35:43\\n', 'I look below it.\\n', '35:45\\n', \"There's a two.\\n\", '35:46\\n', 'OK, I do a row exchange.\\n', '35:50\\n', 'So this zero is now there.\\n', '35:53\\n', 'I now have a perfectly good pivot, and I use it.\\n', '35:58\\n', 'OK, and I subtract two of that row away from this row.\\n', '36:03\\n', 'All right if I do it like that?\\n', '36:05\\n', \"I've got to the form U now.\\n\", '36:08\\n', 'This was my A.\\n', '36:10\\n', \"Now there's my U. I can see now --\\n\", '36:17\\n', 'I have to stop, right?\\n', '36:18\\n', 'I would go on to the third column.\\n', '36:20\\n', 'I should have tried.\\n', '36:22\\n', 'I quit, but without trying.\\n', '36:24\\n', \"I shouldn't have done that.\\n\", '36:25\\n', 'On to the third column, look at the pivot position.\\n', '36:28\\n', \"It's got a zero in it.\\n\", '36:30\\n', 'Look below, all zeros.\\n', '36:32\\n', \"Now I'm entitled to stop, OK.\\n\", '36:35\\n', 'So the rank is two again.\\n', '36:45\\n', 'What about the null space?\\n', '36:48\\n', 'How many special solutions are there this time?\\n', '36:52\\n', 'How many special solutions for this matrix?\\n', '36:56\\n', \"I've got -- and which are the free variables and which are\\n\", '36:59\\n', 'the pivot variables and so on?\\n', '37:01\\n', \"Pivot columns, I've got two pivot columns,\\n\", '37:04\\n', \"and that's no accident.\\n\", '37:06\\n', \"The number of pivot columns for a matrix A, that's\\n\", '37:11\\n', 'a great fact, that the number of pivot columns for A\\n', '37:16\\n', 'and A transpose are the same.\\n', '37:19\\n', 'And then I have a free column.\\n', '37:21\\n', \"There's a free column.\\n\", '37:24\\n', 'One free column, because the count is three minus two.\\n', '37:30\\n', 'Three minus two gives me one free column.\\n', '37:37\\n', \"OK, so now let me solve, what's in the null space.\\n\", '37:47\\n', 'OK, so how do I --\\n', '37:49\\n', \"let's see.\\n\", '37:50\\n', 'These vectors have length three.\\n', '37:52\\n', 'They only have three components.\\n', '37:54\\n', \"I'm making too much space for the, to write x.\\n\", '37:58\\n', 'x has just got three components, and what are they?\\n', '38:03\\n', \"I'm looking for the null space.\\n\", '38:09\\n', 'OK, so how do I start?\\n', '38:12\\n', 'I give the free variable some convenient value.\\n', '38:17\\n', \"And what's that?\\n\", '38:20\\n', 'I set it to one.\\n', '38:23\\n', 'I set the free variable to one.\\n', '38:24\\n', 'If I set the free variable to zero and solve\\n', '38:28\\n', \"for the pivot variables, I'll get all zeros: no progress.\\n\", '38:33\\n', 'But by setting the free variable to one --\\n', '38:36\\n', 'you see w- my two equations now are --\\n', '38:39\\n', 'my equations are x1+ 2x2+ 3 x3 is zero,\\n', '38:45\\n', \"that's my first equation.\\n\", '38:47\\n', 'And my second equation is now 2x2+2x3 equals zero.\\n', '38:51\\n', 'And, OK.\\n', '38:56\\n', 'So if x3 is one, then x2 is minus one.\\n', '39:02\\n', 'And if x3 is one and x2 is minus one, then maybe x1\\n', '39:07\\n', 'is minus one.\\n', '39:12\\n', 'And actually I go back to check now.\\n', '39:14\\n', \"I don't, like --\\n\", '39:17\\n', 'I did a quick calculation mentally.\\n', '39:19\\n', 'Can I mentally do a quick check?\\n', '39:21\\n', 'That matrix, that solution x says\\n', '39:24\\n', 'that minus this column minus this column plus this one\\n', '39:28\\n', 'is the zero column.\\n', '39:31\\n', 'And it is.\\n', '39:32\\n', 'Minus that minus that plus that is zero.\\n', '39:35\\n', \"So that's in the null space.\\n\", '39:37\\n', 'And now you can tell me what else is in the null space.\\n', '39:40\\n', \"What's, what's the whole null space now?\\n\", '39:44\\n', 'I multiply by C, right.\\n', '39:46\\n', 'The whole null space is a line.\\n', '39:51\\n', \"So that's the description.\\n\", '39:52\\n', 'You know, if I ask you on a homework or a quiz or the final\\n', '39:57\\n', 'what -- give me, describe, tell me the null space,\\n', '40:01\\n', 'find the null space of this matrix,\\n', '40:04\\n', 'you can take those steps.\\n', '40:07\\n', \"And that's the answer I'm looking for.\\n\", '40:10\\n', \"And I'm looking for that C too, because that's telling me\\n\", '40:15\\n', \"that you're remembering that it's a whole space and not\\n\", '40:18\\n', 'just one vector.\\n', '40:20\\n', 'Later I will ask you for a basis for the null space.\\n', '40:23\\n', 'Then I just want this vector.\\n', '40:26\\n', 'But if I ask for the whole null space,\\n', '40:28\\n', \"then there's the whole line through that vector.\\n\", '40:31\\n', 'OK, now one more natural thing to do with this example, right,\\n', '40:36\\n', 'is keep going to the reduced matrix, R.\\n', '40:43\\n', 'So can I push onwards to R?\\n', '40:46\\n', \"That should be quick, but let's just practice.\\n\", '40:49\\n', 'Let me keep going to R. OK, so what do I do here?\\n', '40:54\\n', 'I subtract --\\n', '40:55\\n', 'I clear out above the pivot, so I\\n', '40:57\\n', \"subtract that from that, that's one zero one is left, right?\\n\", '41:02\\n', 'When I subtracted this row from this\\n', '41:04\\n', 'it produced a zero above this pivot.\\n', '41:07\\n', 'And now I want that pivot to be a one.\\n', '41:12\\n', \"So for the R matrix, I'll divide this equation by two,\\n\", '41:18\\n', \"and of course these zero, zeros are great, they don't change.\\n\", '41:23\\n', \"There's R.\\n\", '41:24\\n', \"That's R.\\n\", '41:27\\n', 'You see what R is?\\n', '41:28\\n', 'You see the identity matrix sitting up here?\\n', '41:32\\n', 'You see the free part F, the F part here?\\n', '41:36\\n', 'And you see the zeros below.\\n', '41:38\\n', 'This is I F zero zero.\\n', '41:42\\n', \"And what's the x?\\n\", '41:45\\n', 'The x has the identity --\\n', '41:48\\n', \"well, it's only a single number one,\\n\", '41:51\\n', \"but it's the identity matrix in the free, in the free part.\\n\", '41:56\\n', 'And what does it have in the pivot variables?\\n', '42:00\\n', 'What did back substitution give?\\n', '42:03\\n', 'It gave minus these guys.\\n', '42:06\\n', 'You see that what this is is any multiple of --\\n', '42:11\\n', 'this is the identity there, and this is minus F here.\\n', '42:19\\n', 'This is our null space matrix N for this.\\n', '42:24\\n', 'Our, our null space matrix is the guy whose columns\\n', '42:28\\n', 'are the special solutions.\\n', '42:30\\n', 'So their free variables have the special values\\n', '42:33\\n', 'one and, pivot variables have minus F.\\n', '42:39\\n', 'So do you see, though, how the minus F just\\n', '42:42\\n', 'automatically shows up in the special solutions.\\n', '42:49\\n', \"That's it really.\\n\", '42:50\\n', \"I don't think there's anything more I\\n\", '42:51\\n', 'can say about A x equals zero.\\n', '42:55\\n', \"There's more I can say about A x equal b,\\n\", '42:59\\n', \"but that'll be on Friday.\\n\", '43:03\\n', \"OK, so that's, that's the null space.\\n\", '43:05\\n', 'Thanks.\\n', '\\n', '\\n', '\\n', '\\n', '\\n']\n"
     ]
    }
   ],
   "source": [
    "with open('../Downloads/YOUTUBE CC MIT LINALG LEC 7.txt', 'r') as file:\n",
    "    data=file.readlines()\n",
    "    print(data)"
   ]
  },
  {
   "cell_type": "code",
   "execution_count": 20,
   "metadata": {},
   "outputs": [
    {
     "name": "stdout",
     "output_type": "stream",
     "text": [
      "['00:09', \"OK, here's linear algebra lecture seven.\", '00:14', \"I've been talking about vector spaces\", '00:19', 'and specially the null space of a matrix', '00:24', 'and the column space of a matrix.', '00:26', \"What's in those spaces.\", '00:28', 'Now I want to actually describe them.', '00:32', 'How do you describe all the vectors', '00:36', 'that are in those spaces?', '00:37', 'How do you compute these things?', '00:39', 'So this is the, turning the idea, the definition,', '00:46', 'into an algorithm.', '00:48', \"What's the algorithm for solving A x =0?\", '00:53', \"So that's the null space that I'm interested in.\", '00:56', 'So can I take a particular matrix A and describe', '01:01', \"the natural algorithm, and I'll execute it for that matrix --\", '01:06', 'here we go.', '01:08', 'So let me take the matrix as an example.', '01:12', \"So we're definitely talking rectangular matrices in this\", '01:16', 'chapter.', '01:17', \"So I'll make, I'll have four columns.\", '01:22', 'And three rows.', '01:24', 'Two four six eight and three six eight ten.', '01:32', 'OK.', '01:36', 'If I just look at those columns, and rows, well,', '01:42', 'I notice right away that column two', '01:45', 'is a multiple of column one.', '01:47', \"It's in the same direction as column one.\", '01:50', \"It's not independent.\", '01:52', \"I'll expect to discover that in the process.\", '01:56', 'Actually, with rows, I notice that that row plus this row', '02:01', 'gives the third row.', '02:03', 'So the third row is not independent.', '02:07', 'So, all that should come out of elimination.', '02:12', 'So now what I --', '02:14', 'my algorithm is elimination, but extended now', '02:19', 'to the rectangular case, where we', '02:23', \"have to continue even if there's zeros in the pivot position,\", '02:30', 'we go on.', '02:31', 'OK, so let me execute elimination for that matrix.', '02:36', \"My goal is always, while I'm doing elimination --\", '02:42', \"I'm not changing the null space.\", '02:44', \"That's very important, right?\", '02:46', \"I'm solving A x equals zero by elimination,\", '02:50', 'and when I do these operations that you already know,', '02:53', 'when I subtract a multiple of one', '02:56', \"equation from another equation, I'm not changing the solutions.\", '03:02', \"So I'm not changing the null space.\", '03:04', \"Actually, I changing the column space, as you'll see.\", '03:08', 'So you have to pay attention.', '03:10', 'What does elimination leave unchanged?', '03:13', 'And the answer is the solutions to the system are not changed', '03:18', \"because I'm doing the same thing to --\", '03:20', \"I'm doing a legitimate operations on the equations.\", '03:24', \"Of course, on the right hand side it's always zero,\", '03:27', \"and I don't plan to write zero all the time.\", '03:30', \"OK, so I'm really just working on the left side,\", '03:33', 'but the right side is, is keeping up always zeros.', '03:39', \"OK, so what's elimination?\", '03:41', 'Well, you know where the first pivot is', '03:44', 'and you know what to do', '03:46', 'with it.', '03:46', 'So can I just take the first step below here?', '03:51', 'So that pivot row is fine.', '03:55', 'I take two times that row away from this one and I get zero', '04:00', 'zero.', '04:01', \"That's signaling a difficulty.\", '04:03', 'Two, two twos away from the six leaves me with a two.', '04:07', 'Two twos away from the eight leaves me with a four.', '04:10', 'And now three of those away from here', '04:13', 'is zero, again another zero, three twos away', '04:17', 'from that eight is the two, three twos away', '04:20', 'from that ten is a four.', '04:22', 'OK.', '04:23', \"That's the first stage of elimination.\", '04:26', \"I've got the first column straight.\", '04:31', 'So of course I move on to the second column.', '04:35', 'I look in that position, I see a zero.', '04:39', 'I look below it, hoping for a non-zero', '04:43', 'that I can do a row exchange.', '04:44', \"But it's zero below.\", '04:47', \"So that's telling me that that column is -- well,\", '04:53', \"what it's really going to be telling me is that that column\", '04:56', 'is a combination of the earlier columns.', '04:59', \"It's that second column is dependent on the earlier\", '05:04', 'columns.', '05:04', \"But I don't stop to think here.\", '05:09', \"In that column there's nothing to do.\", '05:11', 'I go on to the next.', '05:12', \"So here's the next pivot.\", '05:15', \"So there's the first pivot and there's the second pivot,\", '05:18', 'and I just keep this elimination going downwards.', '05:22', 'So, so the next step keeps the first row,', '05:30', 'keeps the second row with its pivot,', '05:34', \"so I've got my two pivots, and does elimination\", '05:40', 'to clear out the column below that pivot.', '05:44', 'So actually you see the multiplier is one.', '05:47', 'It subtracts row two from row three', '05:50', 'and produces a row of zeros.', '05:53', 'OK.', '05:54', 'That I would call that matrix U, right?', '05:59', \"That's our upper --\", '06:01', \"well, I can't quite say upper triangular.\", '06:05', \"Maybe upper -- I don't know -- upper something.\", '06:12', \"It's in this so-called echelon form.\", '06:17', 'The word echelon means, like, staircase form.', '06:21', \"It's the, the non-zeros come in that staircase form.\", '06:25', 'If there was another pivot here, then the staircase', '06:30', 'would include that.', '06:32', \"But here's a case where we have two pivots only.\", '06:37', \"OK, so actually we've already discovered the most important\", '06:41', 'number about this matrix.', '06:44', 'The number of pivots is two.', '06:48', 'That number we will call the rank of the matrix.', '06:51', 'So let me put immediately.', '06:54', 'The rank of A --', '06:58', \"so I'm telling you what this word\", '07:00', 'rank means in the algorithm.', '07:04', \"It's equal to the number of pivots.\", '07:08', 'And in this case, two.', '07:12', 'OK, for me that number two is the crucial number.', '07:17', \"OK, now I go to -- you remember I'm always solving A x equals\", '07:22', 'zero, but now I can solve U x equals zero, right?', '07:26', 'Same solution, same null space.', '07:29', 'OK.', '07:30', 'So I could stop here --', '07:32', \"why don't I stop here and do the back substitution.\", '07:36', 'So now I have to ask you, how do I describe the solutions?', '07:42', 'There are solutions, right, to A x equals zero.', '07:45', 'I knew there would be.', '07:47', 'I had three equations in four unknowns.', '07:50', 'I certainly expected some solutions.', '07:52', 'Now I want to see what are they.', '07:55', \"OK, here's the critical step.\", '07:59', 'I refer to it up here as separating out', '08:04', 'the pivot variables, the pivot columns, which are these two.', '08:09', 'Here I have two pivot columns.', '08:13', \"Those, obviously, they're the columns with the pivots.\", '08:15', 'So I have two pivot columns.', '08:22', \"And I have the other columns, I'll call free.\", '08:27', 'These are free columns, OK.', '08:32', 'Why do I use those words?', '08:35', 'Why do I use that word free?', '08:38', 'Because now I want to write, I want to find the solutions to U', '08:43', 'x equals zero.', '08:45', 'Here is the way I do it.', '08:48', 'These free columns I can assign any number freely to those --', '08:58', 'to the variables x2 and x4, the ones that multiply', '09:03', 'columns two and four.', '09:06', 'So I can assign anything I like to x2 and x4.', '09:10', 'And then I can solve the equations for x1 and x3.', '09:17', 'Let me say that again.', '09:19', 'If I give -- let me, let me assign.', '09:22', 'So, so one particular x is to assign, say, the value one', '09:29', 'to the, to x2, and zero to x4.', '09:33', 'Those are -- that was a free choice,', '09:35', \"but it's a convenient choice.\", '09:38', 'OK.', '09:38', 'Now I want to solve U x equals zero', '09:41', 'and find numbers one and three, complete the solution.', '09:47', 'Can I write down --', '09:49', \"let's see.\", '09:49', 'OK.', '09:50', 'Shall we just remember what U x equals zero represents?', '09:53', 'What are my equations?', '09:54', 'That first equation is x1 plus just --', '10:00', \"I'm just saying what are these matrices meaning.\", '10:05', \"That's the first equation.\", '10:07', 'And the second equation was 2x3 + 4x4=0.', '10:14', 'Those are my two equations.', '10:16', 'OK.', '10:17', 'Now the point is I can find x1 and x3 by back substitution.', '10:24', \"So we're building on what we already know.\", '10:27', 'The new thing is that there were some free variables that I', '10:31', 'could give any numbers to.', '10:34', \"And I'm systematically going to make a choice like this, Now\", '10:38', 'what is x3?', '10:38', '1 and 0.', '10:39', \"Let's, let's go backwards, back up.\", '10:42', 'I look at the last equation.', '10:45', 'x3 is zero, from the last equation,', '10:50', \"because, because x4 we've set x4 to zero,\", '10:55', 'and then we get x3 as zero.', '10:58', 'OK.', '10:58', 'Now we set x2 to be one, so what is x1?', '11:03', 'Negative two, right?', '11:06', 'So then I have negative two plus two, zero and zero,', '11:10', 'correctly giving zero.', '11:11', 'There is a vector in the null space.', '11:14', 'There is a solution to A x equals zero.', '11:17', 'In fact, what solution is that?', '11:19', 'That simply says that minus two times the first column', '11:24', 'plus one times the second column is the zero column.', '11:28', \"Of course that's right.\", '11:29', 'Minus two of that column plus one of that, or minus two', '11:33', 'of that plus one of that.', '11:35', \"That solution is -- that, that's just what we saw immediately,\", '11:39', 'that the second column is twice as big as the first column.', '11:43', 'OK, tell me some more vectors in the null space.', '11:48', 'I found one.', '11:51', 'Tell me, how to get a bunch more immediately out of that one.', '11:58', 'Just take multiples of it.', '11:59', 'Any multiple of --', '12:01', 'I could multiply this by anything.', '12:04', 'I might as well call it, I could say, C, some multiple of this.', '12:08', 'So let me --', '12:10', 'so X could be any multiple of this one.', '12:14', 'OK, that, that describes now a line,', '12:17', 'an infinitely long line in four dimensional space.', '12:23', 'But -- which is in the null space.', '12:26', 'Is that the whole null space?', '12:29', 'No.', '12:30', \"I've got two free variables here.\", '12:34', 'I made this choice, one and zero, for the free variables,', '12:37', 'but I could have made another choice.', '12:40', 'Let me make the other choice zero and one.', '12:44', 'You see my system.', '12:47', 'So let me repeat the system.', '12:48', 'This is the algorithm that you, you just learned to do.', '12:56', 'Do elimination.', '12:59', 'Decide which are the pivot columns', '13:01', 'and which are the free columns.', '13:02', 'That tells you that, that variables one and three', '13:05', 'are pivot variables, two and four are free variables.', '13:09', 'Then those free variables, you assign them --', '13:14', 'you give one of them the value one and the others the value', '13:17', 'zero -- in this case, we had a one and a zero --', '13:22', 'and complete the solution.', '13:24', 'And you do -- you give the other one the value one and zero.', '13:28', 'And now complete the solution.', '13:30', \"So let's complete that solution.\", '13:32', \"I'm looking for a vector in the null space,\", '13:35', \"and it's absolutely going to be different from this guy,\", '13:38', 'because, because any multiple of that zero', '13:42', 'is never going to give the one.', '13:43', 'So I have somebody new in the null space,', '13:46', 'and let me finish it', '13:46', 'out.', '13:47', \"What's x3 here?\", '13:50', \"So we're going by back substitution,\", '13:52', 'looking at this equation.', '13:53', \"Now x4 we've changed, we're doing the other possibility,\", '13:59', 'where x2 is zero and x4 is one.', '14:02', 'So x3 will happen to be minus two.', '14:06', 'And now what do I get for that first equation?', '14:10', \"x1 -- let's see.\", '14:12', 'Two x3s is minus four plus two -- do I get a two there?', '14:19', 'Perhaps, yeah.', '14:20', 'Two for x1, minus four, and two.', '14:25', 'OK.', '14:26', \"That's in the null space.\", '14:28', 'What does that say about the columns?', '14:32', 'That says that two of this column minus two', '14:37', 'of this column plus this column gives zero, which it does.', '14:41', 'Two of that minus two of that and one of that', '14:46', 'gives the zero column.', '14:47', \"OK, now, now I've found another vector in the null space.\", '14:52', \"Now we're ready to tell me the whole null space.\", '14:55', 'What are all the solutions to Ax=0?', '15:00', \"I've got this guy and when I have him,\", '15:05', 'what else is, goes into the null space along with that?', '15:10', 'These are my two special solutions.', '15:13', 'I call them special --', '15:14', 'I just invented that name.', '15:16', 'Special solutions.', '15:18', \"What's special about them is the special numbers\", '15:21', 'I gave to the free variables, the values zero and one', '15:27', 'for the free variables.', '15:29', 'I could have given the free variables any values', '15:32', 'and got vectors in the null space.', '15:35', 'But this was a good way to be sure I got t- got everybody.', '15:40', 'OK, so once I have him, I also have any multiple, right?', '15:45', 'So I could take any multiple of that', '15:48', \"and it's in the null space.\", '15:50', 'And now what else --', '15:52', 'I left a little space for what?', '15:55', 'What -- a plus sign.', '15:58', 'I can take any combination.', '16:00', 'Here is a line of vectors in the null space.', '16:04', 'A bunch of solutions.', '16:06', 'Would you rather I say in the null space or would you rather', '16:09', \"I say, OK, I'm solving Ax=0?\", '16:13', \"Well, really I'm solving Ux=0.\", '16:19', 'Well, OK, let me put in that crucial plus sign.', '16:23', \"I'm taking all the combinations of my two special solutions.\", '16:29', \"That's my conclusion there.\", '16:32', 'The null space contains, contains exactly', '16:37', 'all the combinations of the special solutions.', '16:42', 'And how many special solutions are there?', '16:46', \"There's one for every free variable.\", '16:49', 'And how many free variables are there?', '16:51', 'Oh, I mean, we can see all the whole picture now.', '16:54', 'If the rank R was two, this is the,', '16:59', 'this is the number of pivot variables, right,', '17:04', 'because it counted the pivots.', '17:08', 'So how many free variables?', '17:11', \"Well, you know it's two, right?\", '17:14', \"What is it in -- for a matrix that's m rows, n columns,\", '17:20', 'n variables that means, with rank r?', '17:25', 'How many free variables have we got left?', '17:28', 'If r of the variables are pivot variables, we have n-r --', '17:34', 'in this case four minus two -- free variables.', '17:38', 'Do you see that first of all we get clean answers here?', '17:53', 'We get r pivot variables -- so there really were r equations', '17:59', 'here.', '18:00', 'There looked like three equations,', '18:01', 'but there were really only two independent equations.', '18:05', 'And there were n-r variables that we could choose freely,', '18:11', 'and we gave them those special zero one values,', '18:16', 'and we got the special solutions.', '18:19', 'OK.', '18:22', 'For me -- we could stop at that point.', '18:25', 'That gives you a complete algorithm', '18:28', 'for finding all the solutions to A x equals zero.', '18:34', 'OK.', '18:38', 'Again, you do elimination --', '18:41', \"going onward when a column, when there's nothing\", '18:46', 'to be done on one column, you just continue.', '18:50', \"There's this number r, the number of pivots, is crucial,\", '18:55', 'and it leaves n-r free variables, which you', '19:01', 'give values zero and one to.', '19:03', 'I would like to take one more step.', '19:08', 'I would like to clean up this matrix even more.', '19:12', \"So now I'm going to go to -- this is in its,\", '19:14', 'this is in echelon form, upper triangular if you like.', '19:20', 'I want to go one more step to make it as good as it can be.', '19:25', \"OK, so now I'm going to speak about the reduced row echelon\", '19:31', 'form.', '19:32', \"OK, so now I'm going to speak about the matrix R, which is\", '19:35', 'the reduced row echelon form.', '19:44', 'So what does that mean?', '19:46', 'That means I just --', '19:49', 'I can, I can work harder on U.', '19:52', 'So let me start, let me suppose I got as far', '19:55', 'as U, which was good.', '20:08', 'Notice how that row of zeros appeared.', '20:11', \"I didn't comment on that, but I should have.\", '20:15', 'That row of zeros up here is because row three was', '20:20', 'a combination of rows one and two,', '20:23', 'and elimination discovered that fact.', '20:27', \"When we get a row of zeros, that's telling us that the --\", '20:32', 'original row that was there was a combination of other rows,', '20:38', 'and elimination knocked it out.', '20:42', 'OK, so we got this far.', '20:44', 'Now how can I clean that up further?', '20:47', 'I can do, elimination upwards.', '20:51', 'I can get zero above the pivots.', '20:54', 'So this reduced row echelon form has zeros', '20:58', 'above and below the pivots.', '21:08', 'So let me do that.', '21:11', \"So now I'll subtract one of this from the row above.\", '21:14', 'That will leave a zero and a minus two in there.', '21:20', \"And that's good.\", '21:26', 'OK, and I can clean it up even one more step.', '21:30', 'I can make the pivots --', '21:33', \"the pivots I'm going to make equal to one, because I can\", '21:37', 'divide equation two by the pivot.', '21:41', \"That won't change the solutions.\", '21:44', 'So let me do that.', '21:45', 'And then I really --', '21:46', \"I'm ready to stop.\", '21:47', 'One, two, zero, minus two, zero, zero, one, two.', '21:53', 'I divided the second equation by two,', '21:58', 'because now I have a one in the pivot and zeros below.', '22:05', 'OK.', '22:06', 'This is my matrix R.', '22:14', \"I guess I'm hoping that you could now\", '22:17', 'execute the whole algorithm.', '22:21', 'Matlab will do it immediately with the command --', '22:30', 'reduced row echelon form of A.', '22:34', 'So if I input that original matrix A', '22:37', 'and then I write, then I type that command, press return,', '22:43', 'that matrix will appear.', '22:46', \"That's the reduced row echelon form,\", '22:49', \"and it's got all the information as clear as can be.\", '23:00', 'What, what information has it got?', '23:01', 'Well, of course it immediately tells me', '23:04', 'the pivot rows, pivot rows, one and two,', '23:08', 'pivot columns, one and three.', '23:11', \"And in fact it's got the identity matrix in there,\", '23:15', \"It's, it's got zeros above and below the pivots, right?\", '23:18', \"and the pivots are one, so it's, so it's got a --\", '23:22', \"so notice the two by two identity matrix that's sitting\", '23:30', 'in the pivot rows and pivot columns.', '23:33', \"it's I in the pivot rows and columns.\", '23:46', \"It's got zero rows below.\", '23:52', 'Those are always indicating that original rows were,', '23:56', 'were combinations of other rows.', '23:58', 'So we really only had two rows there.', '24:02', \"And now it also -- so there's the identity.\", '24:05', \"Now it's also got its free columns.\", '24:10', \"And, they're cleaned up as much as possible.\", '24:17', \"Actually, actually it's now so cleaned up that the special\", '24:21', 'solutions, I can read off -- you remember I went through', '24:26', 'the steps of computing this --', '24:30', 'doing back substitution?', '24:32', 'Let me, let me, instead of that system,', '24:37', 'let me take this improved system.', '24:39', \"So I'm going to use these numbers, right.\", '24:43', 'In these equations, what did I do?', '24:45', 'I divided this equation by two and, oh yeah', '24:52', 'and I had subtracted two of this,', '24:54', 'which knocked out this guy and made that a minus sign.', '24:58', 'Is that what --', '25:01', \"I've now written Rx equals zero.\", '25:10', \"Now I guess I'm hoping everybody in this room understands\", '25:14', 'the solutions to the original A x equals zero,', '25:19', 'the midway, halfway, U x equals zero,', '25:23', 'and the final R x equals zero are all the same.', '25:27', 'Because going from one of those to another one', '25:30', \"I didn't mess up.\", '25:33', 'I just multiplied equations and subtracted', '25:36', \"from other equations, which I'm allowed to do.\", '25:39', 'OK.', '25:40', 'But my point is that now if I do this free variables', '25:47', \"and back substitution, it's just, the numbers are there.\", '25:52', 'When I let x -- so in this guy, I let x2 be one and x4 be zero.', '26:01', 'I, I guess, what I seeing here?', '26:04', 'Let me, let me sort of separate this out here.', '26:07', \"I'm seeing in the pivot, in the pivot columns,\", '26:12', \"if I, if I put the pivot columns here, I'm seeing those.\", '26:16', \"And I'm -- in the free columns I'm seeing --\", '26:21', 'what I seeing in the free columns?', '26:23', 'A two, zero in that first free column, the x2 column,', '26:29', 'and a minus two, two in the fourth column,', '26:33', 'the other free column.', '26:36', 'And the row of zeros below, which of course have no --', '26:41', 'that equation is zero equals zero.', '26:43', \"That's satisfied.\", '26:46', \"Here's my point.\", '26:48', 'That when I do back substitution,', '26:51', 'these numbers are exactly what shows up --', '26:55', 'oh, their signs get switched.', '26:58', 'I was going to say those numbers, two, minus two, zero,', '27:01', 'two, can I just circle the -- this is the free part', '27:06', 'of the matrix.', '27:07', 'This is the identity part.', '27:10', \"This is the free part, maybe I'll call it F.\", '27:14', \"This, of course, I call I, because it's the identity.\", '27:18', \"The free part is a, I mean, I'm just doing back substitution.\", '27:25', 'And those free numbers will show up, with a minus sign,', '27:29', 'because they pop onto the other side of the equation --', '27:32', 'so I see minus two, zero, and I see two, minus two.', '27:39', \"So that wasn't magic.\", '27:41', 'It had to happen.', '27:43', 'Let me, show you clearly why it happened.', '27:48', \"OK, so that's --\", '27:50', \"this is what I'm interested in here.\", '27:53', 'And now let me, let me just, like, do it, do it for --', '27:59', \"let's suppose we've, we've got to --\", '28:07', \"let's suppose we've got this system already in,\", '28:11', 'in rref form.', '28:18', 'So my matrix R is -- what does it look like?', '28:22', \"OK, and I'll --\", '28:25', 'let me pretend that the pivot columns come first', '28:30', \"and then whatever's in the free columns.\", '28:33', 'And there might be some zero rows below.', '28:37', \"There's a typical --\", '28:40', 'a pretty typical reduced row echelon form.', '28:49', \"You see what's typical.\", '28:51', \"It's got -- this is r by r.\", '28:55', 'This is r pivot rows.', '29:02', 'This is r pivot columns.', '29:09', 'And here are n-r free columns.', '29:16', 'OK.', '29:17', 'Tell me what are the special solutions?', '29:21', 'What are the --', '29:23', \"what's x?\", '29:24', 'If I want to solve R x equals zero --', '29:27', 'in fact, let me --', '29:31', \"I'm really going to, do the whole -- since these --\", '29:36', 'this is now block matrices, I might as well do all', '29:39', 'of the special solutions at once.', '29:41', 'So I want to solve R x equals zero,', '29:44', \"and I'll have some special solutions.\", '29:49', 'Let me, actually --', '29:52', 'can I do them all at once?', '29:54', \"I'm going to create a null space matrix, OK.\", '30:00', 'A matrix.', '30:04', 'Its, its, its columns are the special --', '30:13', 'the columns are the special solutions.', '30:19', \"This is, I'm making it sound harder,\", '30:21', \"it's going to be totally easy.\", '30:22', 'N will be this null space matrix.', '30:25', 'I want R N to be the zero matrix.', '30:31', 'These columns of N are supposed to multipl-', '30:33', 'to get multiplied by R and give zero columns.', '30:37', 'So what N will do the job?', '30:40', 'Let me put --', '30:41', \"I'm going to put the identity in the free variable part\", '30:45', 'and then minus F will show up in the pivot variables, just', '30:54', 'the way it did in that example.', '30:55', 'There we had the identity and F.', '30:58', 'Here -- in the special solution.', '31:02', \"So these columns are -- there's the matrix of special\", '31:05', 'solutions.', '31:06', \"And actually, there -- so there's a Matlab command\", '31:09', 'or a teaching code command, NULL --', '31:14', 'N equal, so this is the --', '31:19', 'produces the null basis, the null space matrix, NULL of A,', '31:24', 'and there it is.', '31:30', 'And how does that command actually work?', '31:33', 'It uses Matlab to compute R, then', '31:38', 'it picks out the pivot variables, the free variables,', '31:43', 'puts, puts ones and zeros in for the free variables,', '31:47', 'and copies out the pivot variables.', '31:51', 'It, it does back substitution, but back substitution', '31:54', 'for this system is totally simple.', '31:57', 'What is this system?', '32:00', 'R x equals zero.', '32:03', 'So this is R is I F, and x is the pivot variables', '32:11', \"and the free variables, and it's supposed to give zero.\", '32:18', 'So what does that mean?', '32:20', 'That means that the pivot variables plus F', '32:24', 'times the free variables give zero.', '32:28', 'So let me put F times the free variables on the other side.', '32:31', 'I get minus F times the free variables.', '32:37', \"There's my, equation, as simple as it can be.\", '32:43', \"That's what back substitution comes\", '32:45', \"to when I've reduced and reduced and reduced this system\", '32:49', 'to the, to the best form, OK.', '32:52', 'And, then if the free variables, I', '32:56', 'make this special choice of the identity,', '33:00', 'then the pivot variables are', '33:02', 'minus F. OK, can I do, another example?', '33:08', 'Could you do another example?', '33:10', 'Can I -- let me just take another matrix', '33:12', \"and, and let's go through this algorithm once more, OK.\", '33:17', 'Here we go.', '33:19', \"Here's a blackboard for another matrix, OK.\", '33:25', \"So I'll call the matrix A again, but let me make it --\", '33:31', 'yeah, how big shall we make it this time?', '33:36', \"Why don't I do this?\", '33:38', 'Just for the heck of it.', '33:39', 'Let me take the transpose of this A and see what happens to', '33:44', 'that.', '33:45', 'Two four six eight and three six eight ten.', '34:00', \"Before we do the calculations, tell me what's coming?\", '34:06', 'How many pivot variables do you expect here?', '34:12', 'How many columns are going to have pivots?', '34:16', 'How many -- we have three columns in that matrix,', '34:22', 'but are we going to, are we going to have three pivots?', '34:25', 'No, because this third columns is the sum of the first two', '34:31', 'columns.', '34:32', \"I'm totally expecting, totally expecting that these will be\", '34:38', 'pivot columns --', '34:41', \"because they're independent, but that this third guy,\", '34:45', 'the third column, which is dependent on the first two,', '34:49', 'is going to be a free column.', '34:52', 'Elimination better discover that.', '34:54', 'And elimination will also straighten out', '34:58', 'the rows, dependent rows and some independent rows.', '35:05', \"What's the, what's the row reduced echelon form for this?\", '35:09', \"Let's just do it, OK.\", '35:11', \"So, so that's the first pivot.\", '35:16', 'Two times that away from that gives me a row of zeros.', '35:20', 'Two times that away from that gives me a zero two two.', '35:24', 'And two times that away from that gives me a zero four four.', '35:32', 'OK, first column is straight.', '35:35', 'First variable is a pivot variable.', '35:37', 'No problem.', '35:39', 'On to the second column.', '35:40', \"I look at the second pivot, it's a zero.\", '35:43', 'I look below it.', '35:45', \"There's a two.\", '35:46', 'OK, I do a row exchange.', '35:50', 'So this zero is now there.', '35:53', 'I now have a perfectly good pivot, and I use it.', '35:58', 'OK, and I subtract two of that row away from this row.', '36:03', 'All right if I do it like that?', '36:05', \"I've got to the form U now.\", '36:08', 'This was my A.', '36:10', \"Now there's my U. I can see now --\", '36:17', 'I have to stop, right?', '36:18', 'I would go on to the third column.', '36:20', 'I should have tried.', '36:22', 'I quit, but without trying.', '36:24', \"I shouldn't have done that.\", '36:25', 'On to the third column, look at the pivot position.', '36:28', \"It's got a zero in it.\", '36:30', 'Look below, all zeros.', '36:32', \"Now I'm entitled to stop, OK.\", '36:35', 'So the rank is two again.', '36:45', 'What about the null space?', '36:48', 'How many special solutions are there this time?', '36:52', 'How many special solutions for this matrix?', '36:56', \"I've got -- and which are the free variables and which are\", '36:59', 'the pivot variables and so on?', '37:01', \"Pivot columns, I've got two pivot columns,\", '37:04', \"and that's no accident.\", '37:06', \"The number of pivot columns for a matrix A, that's\", '37:11', 'a great fact, that the number of pivot columns for A', '37:16', 'and A transpose are the same.', '37:19', 'And then I have a free column.', '37:21', \"There's a free column.\", '37:24', 'One free column, because the count is three minus two.', '37:30', 'Three minus two gives me one free column.', '37:37', \"OK, so now let me solve, what's in the null space.\", '37:47', 'OK, so how do I --', '37:49', \"let's see.\", '37:50', 'These vectors have length three.', '37:52', 'They only have three components.', '37:54', \"I'm making too much space for the, to write x.\", '37:58', 'x has just got three components, and what are they?', '38:03', \"I'm looking for the null space.\", '38:09', 'OK, so how do I start?', '38:12', 'I give the free variable some convenient value.', '38:17', \"And what's that?\", '38:20', 'I set it to one.', '38:23', 'I set the free variable to one.', '38:24', 'If I set the free variable to zero and solve', '38:28', \"for the pivot variables, I'll get all zeros: no progress.\", '38:33', 'But by setting the free variable to one --', '38:36', 'you see w- my two equations now are --', '38:39', 'my equations are x1+ 2x2+ 3 x3 is zero,', '38:45', \"that's my first equation.\", '38:47', 'And my second equation is now 2x2+2x3 equals zero.', '38:51', 'And, OK.', '38:56', 'So if x3 is one, then x2 is minus one.', '39:02', 'And if x3 is one and x2 is minus one, then maybe x1', '39:07', 'is minus one.', '39:12', 'And actually I go back to check now.', '39:14', \"I don't, like --\", '39:17', 'I did a quick calculation mentally.', '39:19', 'Can I mentally do a quick check?', '39:21', 'That matrix, that solution x says', '39:24', 'that minus this column minus this column plus this one', '39:28', 'is the zero column.', '39:31', 'And it is.', '39:32', 'Minus that minus that plus that is zero.', '39:35', \"So that's in the null space.\", '39:37', 'And now you can tell me what else is in the null space.', '39:40', \"What's, what's the whole null space now?\", '39:44', 'I multiply by C, right.', '39:46', 'The whole null space is a line.', '39:51', \"So that's the description.\", '39:52', 'You know, if I ask you on a homework or a quiz or the final', '39:57', 'what -- give me, describe, tell me the null space,', '40:01', 'find the null space of this matrix,', '40:04', 'you can take those steps.', '40:07', \"And that's the answer I'm looking for.\", '40:10', \"And I'm looking for that C too, because that's telling me\", '40:15', \"that you're remembering that it's a whole space and not\", '40:18', 'just one vector.', '40:20', 'Later I will ask you for a basis for the null space.', '40:23', 'Then I just want this vector.', '40:26', 'But if I ask for the whole null space,', '40:28', \"then there's the whole line through that vector.\", '40:31', 'OK, now one more natural thing to do with this example, right,', '40:36', 'is keep going to the reduced matrix, R.', '40:43', 'So can I push onwards to R?', '40:46', \"That should be quick, but let's just practice.\", '40:49', 'Let me keep going to R. OK, so what do I do here?', '40:54', 'I subtract --', '40:55', 'I clear out above the pivot, so I', '40:57', \"subtract that from that, that's one zero one is left, right?\", '41:02', 'When I subtracted this row from this', '41:04', 'it produced a zero above this pivot.', '41:07', 'And now I want that pivot to be a one.', '41:12', \"So for the R matrix, I'll divide this equation by two,\", '41:18', \"and of course these zero, zeros are great, they don't change.\", '41:23', \"There's R.\", '41:24', \"That's R.\", '41:27', 'You see what R is?', '41:28', 'You see the identity matrix sitting up here?', '41:32', 'You see the free part F, the F part here?', '41:36', 'And you see the zeros below.', '41:38', 'This is I F zero zero.', '41:42', \"And what's the x?\", '41:45', 'The x has the identity --', '41:48', \"well, it's only a single number one,\", '41:51', \"but it's the identity matrix in the free, in the free part.\", '41:56', 'And what does it have in the pivot variables?', '42:00', 'What did back substitution give?', '42:03', 'It gave minus these guys.', '42:06', 'You see that what this is is any multiple of --', '42:11', 'this is the identity there, and this is minus F here.', '42:19', 'This is our null space matrix N for this.', '42:24', 'Our, our null space matrix is the guy whose columns', '42:28', 'are the special solutions.', '42:30', 'So their free variables have the special values', '42:33', 'one and, pivot variables have minus F.', '42:39', 'So do you see, though, how the minus F just', '42:42', 'automatically shows up in the special solutions.', '42:49', \"That's it really.\", '42:50', \"I don't think there's anything more I\", '42:51', 'can say about A x equals zero.', '42:55', \"There's more I can say about A x equal b,\", '42:59', \"but that'll be on Friday.\", '43:03', \"OK, so that's, that's the null space.\", '43:05', 'Thanks.', '', '', '', '', '']\n"
     ]
    }
   ],
   "source": [
    "parsed_list=[]\n",
    "for line in data:\n",
    "    parsed_list.append((line.rstrip('\\n')))\n",
    "parsed_list[0]=parsed_list[0].lstrip('\\ufeff')\n",
    "print(parsed_list)\n"
   ]
  },
  {
   "cell_type": "code",
   "execution_count": 21,
   "metadata": {},
   "outputs": [
    {
     "data": {
      "text/plain": [
       "''"
      ]
     },
     "execution_count": 21,
     "metadata": {},
     "output_type": "execute_result"
    }
   ],
   "source": [
    "timestamp_list=parsed_list[0::2]\n",
    "text_list=parsed_list[1::2]\n",
    "timestamp_list.pop()"
   ]
  },
  {
   "cell_type": "code",
   "execution_count": 22,
   "metadata": {},
   "outputs": [],
   "source": [
    "df=pd.DataFrame({\n",
    "    'time':timestamp_list,\n",
    "    'text':text_list\n",
    "})"
   ]
  },
  {
   "cell_type": "code",
   "execution_count": 23,
   "metadata": {},
   "outputs": [],
   "source": [
    "df=df.iloc[0:689]"
   ]
  },
  {
   "cell_type": "code",
   "execution_count": 15,
   "metadata": {},
   "outputs": [],
   "source": [
    "def get_sec(time_str):\n",
    "    m, s = time_str.split(':')\n",
    "    return int(m) * 60 + int(s)"
   ]
  },
  {
   "cell_type": "code",
   "execution_count": 24,
   "metadata": {},
   "outputs": [
    {
     "data": {
      "text/plain": [
       "0      00:09\n",
       "1      00:14\n",
       "2      00:19\n",
       "3      00:24\n",
       "4      00:26\n",
       "       ...  \n",
       "684    42:50\n",
       "685    42:51\n",
       "686    42:55\n",
       "687    42:59\n",
       "688    43:03\n",
       "Name: time, Length: 689, dtype: object"
      ]
     },
     "execution_count": 24,
     "metadata": {},
     "output_type": "execute_result"
    }
   ],
   "source": [
    "df['time']"
   ]
  },
  {
   "cell_type": "code",
   "execution_count": 25,
   "metadata": {},
   "outputs": [],
   "source": [
    "df['time']=df['time'].apply(lambda x: get_sec(x))"
   ]
  },
  {
   "cell_type": "code",
   "execution_count": 26,
   "metadata": {},
   "outputs": [
    {
     "data": {
      "text/html": [
       "<div>\n",
       "<style scoped>\n",
       "    .dataframe tbody tr th:only-of-type {\n",
       "        vertical-align: middle;\n",
       "    }\n",
       "\n",
       "    .dataframe tbody tr th {\n",
       "        vertical-align: top;\n",
       "    }\n",
       "\n",
       "    .dataframe thead th {\n",
       "        text-align: right;\n",
       "    }\n",
       "</style>\n",
       "<table border=\"1\" class=\"dataframe\">\n",
       "  <thead>\n",
       "    <tr style=\"text-align: right;\">\n",
       "      <th></th>\n",
       "      <th>time</th>\n",
       "      <th>text</th>\n",
       "    </tr>\n",
       "  </thead>\n",
       "  <tbody>\n",
       "    <tr>\n",
       "      <th>0</th>\n",
       "      <td>9</td>\n",
       "      <td>OK, here's linear algebra lecture seven.</td>\n",
       "    </tr>\n",
       "    <tr>\n",
       "      <th>1</th>\n",
       "      <td>14</td>\n",
       "      <td>I've been talking about vector spaces</td>\n",
       "    </tr>\n",
       "    <tr>\n",
       "      <th>2</th>\n",
       "      <td>19</td>\n",
       "      <td>and specially the null space of a matrix</td>\n",
       "    </tr>\n",
       "    <tr>\n",
       "      <th>3</th>\n",
       "      <td>24</td>\n",
       "      <td>and the column space of a matrix.</td>\n",
       "    </tr>\n",
       "    <tr>\n",
       "      <th>4</th>\n",
       "      <td>26</td>\n",
       "      <td>What's in those spaces.</td>\n",
       "    </tr>\n",
       "  </tbody>\n",
       "</table>\n",
       "</div>"
      ],
      "text/plain": [
       "   time                                      text\n",
       "0     9  OK, here's linear algebra lecture seven.\n",
       "1    14     I've been talking about vector spaces\n",
       "2    19  and specially the null space of a matrix\n",
       "3    24         and the column space of a matrix.\n",
       "4    26                   What's in those spaces."
      ]
     },
     "execution_count": 26,
     "metadata": {},
     "output_type": "execute_result"
    }
   ],
   "source": [
    "df.head()"
   ]
  },
  {
   "cell_type": "code",
   "execution_count": 27,
   "metadata": {},
   "outputs": [],
   "source": [
    "def remove_punct(text):\n",
    "    new_text=''.join([(char.lower()) for char in text if char not in string.punctuation])\n",
    "    return new_text\n",
    "df['no_punct']=df['text'].apply(lambda x: remove_punct(x))"
   ]
  },
  {
   "cell_type": "code",
   "execution_count": 28,
   "metadata": {},
   "outputs": [],
   "source": [
    "def tokenize(text):\n",
    "    new_text=re.split('\\W+',text)\n",
    "    return new_text\n",
    "df['tokenized']=df['no_punct'].apply(lambda x: tokenize(x))"
   ]
  },
  {
   "cell_type": "code",
   "execution_count": 29,
   "metadata": {},
   "outputs": [],
   "source": [
    "stopwords_list=nltk.corpus.stopwords.words('english')\n",
    "stemmer=WordNetLemmatizer()\n",
    "\n",
    "def stopwords(text):\n",
    "    new_text=[stemmer.lemmatize(word) for word in text if word not in stopwords_list]\n",
    "    return new_text\n",
    "df['analyze_text']=df['tokenized'].apply(lambda x: stopwords(x))"
   ]
  },
  {
   "cell_type": "code",
   "execution_count": 30,
   "metadata": {},
   "outputs": [],
   "source": [
    "from sklearn.feature_extraction.text import TfidfVectorizer\n",
    "tfidf_vect=TfidfVectorizer(analyzer=stopwords)\n",
    "tfidf_counts=tfidf_vect.fit_transform(df['analyze_text'])"
   ]
  },
  {
   "cell_type": "code",
   "execution_count": 246,
   "metadata": {},
   "outputs": [],
   "source": [
    "tfidf_kmeans=KMeans(n_clusters=50,n_jobs=1)\n",
    "tfidf_X=tfidf_kmeans.fit(tfidf_counts)\n",
    "df['tf_idf_cluster']=tfidf_kmeans.labels_"
   ]
  },
  {
   "cell_type": "code",
   "execution_count": 280,
   "metadata": {},
   "outputs": [],
   "source": [
    "db=DBSCAN(eps=.2,min_samples=3)\n",
    "tfidf_df=db.fit(tfidf_counts)\n",
    "db_clusters=db.fit_predict(tfidf_counts)"
   ]
  },
  {
   "cell_type": "code",
   "execution_count": 281,
   "metadata": {},
   "outputs": [
    {
     "data": {
      "text/plain": [
       "<matplotlib.collections.PathCollection at 0x1a22c72610>"
      ]
     },
     "execution_count": 281,
     "metadata": {},
     "output_type": "execute_result"
    },
    {
     "data": {
      "image/png": "[encoded data removed]",
      "text/plain": [
       "<Figure size 432x288 with 1 Axes>"
      ]
     },
     "metadata": {
      "needs_background": "light"
     },
     "output_type": "display_data"
    }
   ],
   "source": [
    "reduced_db_features = pca.fit_transform(tfidf_counts.toarray())\n",
    "plt.scatter(reduced_db_features[:, 0], reduced_db_features[:, 1], c=db_clusters, cmap=\"plasma\")"
   ]
  },
  {
   "cell_type": "code",
   "execution_count": null,
   "metadata": {},
   "outputs": [],
   "source": []
  },
  {
   "cell_type": "code",
   "execution_count": 270,
   "metadata": {},
   "outputs": [],
   "source": [
    "df['dbscan_cluster']=tfidf_df.labels_"
   ]
  },
  {
   "cell_type": "code",
   "execution_count": 271,
   "metadata": {},
   "outputs": [
    {
     "data": {
      "text/html": [
       "<div>\n",
       "<style scoped>\n",
       "    .dataframe tbody tr th:only-of-type {\n",
       "        vertical-align: middle;\n",
       "    }\n",
       "\n",
       "    .dataframe tbody tr th {\n",
       "        vertical-align: top;\n",
       "    }\n",
       "\n",
       "    .dataframe thead th {\n",
       "        text-align: right;\n",
       "    }\n",
       "</style>\n",
       "<table border=\"1\" class=\"dataframe\">\n",
       "  <thead>\n",
       "    <tr style=\"text-align: right;\">\n",
       "      <th></th>\n",
       "      <th>time</th>\n",
       "      <th>text</th>\n",
       "      <th>no_punct</th>\n",
       "      <th>tokenized</th>\n",
       "      <th>analyze_text</th>\n",
       "      <th>tf_idf_cluster</th>\n",
       "    </tr>\n",
       "    <tr>\n",
       "      <th>dbscan_cluster</th>\n",
       "      <th></th>\n",
       "      <th></th>\n",
       "      <th></th>\n",
       "      <th></th>\n",
       "      <th></th>\n",
       "      <th></th>\n",
       "    </tr>\n",
       "  </thead>\n",
       "  <tbody>\n",
       "    <tr>\n",
       "      <th>-1</th>\n",
       "      <td>639</td>\n",
       "      <td>639</td>\n",
       "      <td>639</td>\n",
       "      <td>639</td>\n",
       "      <td>639</td>\n",
       "      <td>639</td>\n",
       "    </tr>\n",
       "    <tr>\n",
       "      <th>0</th>\n",
       "      <td>3</td>\n",
       "      <td>3</td>\n",
       "      <td>3</td>\n",
       "      <td>3</td>\n",
       "      <td>3</td>\n",
       "      <td>3</td>\n",
       "    </tr>\n",
       "    <tr>\n",
       "      <th>1</th>\n",
       "      <td>15</td>\n",
       "      <td>15</td>\n",
       "      <td>15</td>\n",
       "      <td>15</td>\n",
       "      <td>15</td>\n",
       "      <td>15</td>\n",
       "    </tr>\n",
       "    <tr>\n",
       "      <th>2</th>\n",
       "      <td>3</td>\n",
       "      <td>3</td>\n",
       "      <td>3</td>\n",
       "      <td>3</td>\n",
       "      <td>3</td>\n",
       "      <td>3</td>\n",
       "    </tr>\n",
       "    <tr>\n",
       "      <th>3</th>\n",
       "      <td>9</td>\n",
       "      <td>9</td>\n",
       "      <td>9</td>\n",
       "      <td>9</td>\n",
       "      <td>9</td>\n",
       "      <td>9</td>\n",
       "    </tr>\n",
       "    <tr>\n",
       "      <th>4</th>\n",
       "      <td>3</td>\n",
       "      <td>3</td>\n",
       "      <td>3</td>\n",
       "      <td>3</td>\n",
       "      <td>3</td>\n",
       "      <td>3</td>\n",
       "    </tr>\n",
       "    <tr>\n",
       "      <th>5</th>\n",
       "      <td>3</td>\n",
       "      <td>3</td>\n",
       "      <td>3</td>\n",
       "      <td>3</td>\n",
       "      <td>3</td>\n",
       "      <td>3</td>\n",
       "    </tr>\n",
       "    <tr>\n",
       "      <th>6</th>\n",
       "      <td>4</td>\n",
       "      <td>4</td>\n",
       "      <td>4</td>\n",
       "      <td>4</td>\n",
       "      <td>4</td>\n",
       "      <td>4</td>\n",
       "    </tr>\n",
       "    <tr>\n",
       "      <th>7</th>\n",
       "      <td>4</td>\n",
       "      <td>4</td>\n",
       "      <td>4</td>\n",
       "      <td>4</td>\n",
       "      <td>4</td>\n",
       "      <td>4</td>\n",
       "    </tr>\n",
       "    <tr>\n",
       "      <th>8</th>\n",
       "      <td>3</td>\n",
       "      <td>3</td>\n",
       "      <td>3</td>\n",
       "      <td>3</td>\n",
       "      <td>3</td>\n",
       "      <td>3</td>\n",
       "    </tr>\n",
       "    <tr>\n",
       "      <th>9</th>\n",
       "      <td>3</td>\n",
       "      <td>3</td>\n",
       "      <td>3</td>\n",
       "      <td>3</td>\n",
       "      <td>3</td>\n",
       "      <td>3</td>\n",
       "    </tr>\n",
       "  </tbody>\n",
       "</table>\n",
       "</div>"
      ],
      "text/plain": [
       "                time  text  no_punct  tokenized  analyze_text  tf_idf_cluster\n",
       "dbscan_cluster                                                               \n",
       "-1               639   639       639        639           639             639\n",
       " 0                 3     3         3          3             3               3\n",
       " 1                15    15        15         15            15              15\n",
       " 2                 3     3         3          3             3               3\n",
       " 3                 9     9         9          9             9               9\n",
       " 4                 3     3         3          3             3               3\n",
       " 5                 3     3         3          3             3               3\n",
       " 6                 4     4         4          4             4               4\n",
       " 7                 4     4         4          4             4               4\n",
       " 8                 3     3         3          3             3               3\n",
       " 9                 3     3         3          3             3               3"
      ]
     },
     "execution_count": 271,
     "metadata": {},
     "output_type": "execute_result"
    }
   ],
   "source": [
    "db_grouped=df.groupby(df['dbscan_cluster']).count()\n",
    "db_grouped"
   ]
  },
  {
   "cell_type": "code",
   "execution_count": 288,
   "metadata": {},
   "outputs": [],
   "source": [
    "ap=AffinityPropagation(damping=.99)\n",
    "tfidf_ap=ap.fit(tfidf_counts)\n",
    "ap_clusters=ap.fit_predict(tfidf_counts)"
   ]
  },
  {
   "cell_type": "code",
   "execution_count": 289,
   "metadata": {},
   "outputs": [
    {
     "data": {
      "text/plain": [
       "<matplotlib.collections.PathCollection at 0x1a22ac5250>"
      ]
     },
     "execution_count": 289,
     "metadata": {},
     "output_type": "execute_result"
    },
    {
     "data": {
      "image/png": "[encoded data removed]",
      "text/plain": [
       "<Figure size 432x288 with 1 Axes>"
      ]
     },
     "metadata": {
      "needs_background": "light"
     },
     "output_type": "display_data"
    }
   ],
   "source": [
    "reduced_ap_features = pca.fit_transform(tfidf_counts.toarray())\n",
    "plt.scatter(reduced_ap_features[:, 0], reduced_ap_features[:, 1], c=ap_clusters, cmap=\"plasma\")"
   ]
  },
  {
   "cell_type": "code",
   "execution_count": 295,
   "metadata": {},
   "outputs": [],
   "source": [
    "from sklearn.decomposition import PCA\n",
    "from sklearn.cluster import DBSCAN\n",
    "from sklearn.cluster import AffinityPropagation\n",
    "from sklearn.cluster import MeanShift,OPTICS,AgglomerativeClustering,Birch"
   ]
  },
  {
   "cell_type": "code",
   "execution_count": 299,
   "metadata": {},
   "outputs": [
    {
     "data": {
      "text/plain": [
       "<matplotlib.collections.PathCollection at 0x1a22891650>"
      ]
     },
     "execution_count": 299,
     "metadata": {},
     "output_type": "execute_result"
    },
    {
     "data": {
      "image/png": "[encoded data removed]",
      "text/plain": [
       "<Figure size 432x288 with 1 Axes>"
      ]
     },
     "metadata": {
      "needs_background": "light"
     },
     "output_type": "display_data"
    }
   ],
   "source": [
    "ms=MeanShift(bin_seeding=True,cluster_all=False)\n",
    "tfidf_ms=ms.fit(tfidf_counts.toarray())\n",
    "ms_clusters=ms.fit_predict(tfidf_counts.toarray())\n",
    "reduced_ms_features = pca.fit_transform(tfidf_counts.toarray())\n",
    "plt.scatter(reduced_ms_features[:, 0], reduced_ms_features[:, 1], c=ms_clusters, cmap=\"plasma\")"
   ]
  },
  {
   "cell_type": "code",
   "execution_count": 308,
   "metadata": {},
   "outputs": [
    {
     "name": "stderr",
     "output_type": "stream",
     "text": [
      "/Users/varunpatel/opt/anaconda3/lib/python3.7/site-packages/sklearn/cluster/_optics.py:802: RuntimeWarning: divide by zero encountered in true_divide\n",
      "  ratio = reachability_plot[:-1] / reachability_plot[1:]\n",
      "/Users/varunpatel/opt/anaconda3/lib/python3.7/site-packages/sklearn/cluster/_optics.py:802: RuntimeWarning: divide by zero encountered in true_divide\n",
      "  ratio = reachability_plot[:-1] / reachability_plot[1:]\n"
     ]
    },
    {
     "data": {
      "text/plain": [
       "<matplotlib.collections.PathCollection at 0x1a224d4bd0>"
      ]
     },
     "execution_count": 308,
     "metadata": {},
     "output_type": "execute_result"
    },
    {
     "data": {
      "image/png": "[encoded data removed]",
      "text/plain": [
       "<Figure size 432x288 with 1 Axes>"
      ]
     },
     "metadata": {
      "needs_background": "light"
     },
     "output_type": "display_data"
    }
   ],
   "source": [
    "optics=OPTICS(min_samples=3,xi=.001)\n",
    "tfidf_optics=optics.fit(tfidf_counts.toarray())\n",
    "optics_clusters=optics.fit_predict(tfidf_counts.toarray())\n",
    "reduced_optics_features = pca.fit_transform(tfidf_counts.toarray())\n",
    "plt.scatter(reduced_optics_features[:, 0], reduced_optics_features[:, 1], c=optics_clusters, cmap=\"plasma\")"
   ]
  },
  {
   "cell_type": "code",
   "execution_count": 290,
   "metadata": {},
   "outputs": [],
   "source": [
    "pca = PCA(n_components=2)\n",
    "reduced_features = pca.fit_transform(tfidf_counts.toarray())\n"
   ]
  },
  {
   "cell_type": "code",
   "execution_count": 291,
   "metadata": {},
   "outputs": [],
   "source": [
    "reduced_cluster_centers = pca.transform(tfidf_kmeans.cluster_centers_)"
   ]
  },
  {
   "cell_type": "code",
   "execution_count": 249,
   "metadata": {},
   "outputs": [
    {
     "data": {
      "text/plain": [
       "<matplotlib.collections.PathCollection at 0x1a222d9cd0>"
      ]
     },
     "execution_count": 249,
     "metadata": {},
     "output_type": "execute_result"
    },
    {
     "data": {
      "image/png": "[encoded data removed]",
      "text/plain": [
       "<Figure size 432x288 with 1 Axes>"
      ]
     },
     "metadata": {
      "needs_background": "light"
     },
     "output_type": "display_data"
    }
   ],
   "source": [
    "plt.scatter(reduced_features[:,0], reduced_features[:,1], c=tfidf_kmeans.predict(tfidf_counts))\n",
    "plt.scatter(reduced_cluster_centers[:, 0], reduced_cluster_centers[:,1], marker='x', s=150, c='b')\n"
   ]
  },
  {
   "cell_type": "code",
   "execution_count": 309,
   "metadata": {},
   "outputs": [
    {
     "data": {
      "text/html": [
       "<div>\n",
       "<style scoped>\n",
       "    .dataframe tbody tr th:only-of-type {\n",
       "        vertical-align: middle;\n",
       "    }\n",
       "\n",
       "    .dataframe tbody tr th {\n",
       "        vertical-align: top;\n",
       "    }\n",
       "\n",
       "    .dataframe thead th {\n",
       "        text-align: right;\n",
       "    }\n",
       "</style>\n",
       "<table border=\"1\" class=\"dataframe\">\n",
       "  <thead>\n",
       "    <tr style=\"text-align: right;\">\n",
       "      <th></th>\n",
       "      <th>time</th>\n",
       "      <th>text</th>\n",
       "      <th>no_punct</th>\n",
       "      <th>tokenized</th>\n",
       "      <th>analyze_text</th>\n",
       "      <th>tf_idf_cluster</th>\n",
       "      <th>dbscan_cluster</th>\n",
       "      <th>ap_cluster</th>\n",
       "    </tr>\n",
       "    <tr>\n",
       "      <th>optics_cluster</th>\n",
       "      <th></th>\n",
       "      <th></th>\n",
       "      <th></th>\n",
       "      <th></th>\n",
       "      <th></th>\n",
       "      <th></th>\n",
       "      <th></th>\n",
       "      <th></th>\n",
       "    </tr>\n",
       "  </thead>\n",
       "  <tbody>\n",
       "    <tr>\n",
       "      <th>-1</th>\n",
       "      <td>423</td>\n",
       "      <td>423</td>\n",
       "      <td>423</td>\n",
       "      <td>423</td>\n",
       "      <td>423</td>\n",
       "      <td>423</td>\n",
       "      <td>423</td>\n",
       "      <td>423</td>\n",
       "    </tr>\n",
       "    <tr>\n",
       "      <th>0</th>\n",
       "      <td>9</td>\n",
       "      <td>9</td>\n",
       "      <td>9</td>\n",
       "      <td>9</td>\n",
       "      <td>9</td>\n",
       "      <td>9</td>\n",
       "      <td>9</td>\n",
       "      <td>9</td>\n",
       "    </tr>\n",
       "    <tr>\n",
       "      <th>1</th>\n",
       "      <td>5</td>\n",
       "      <td>5</td>\n",
       "      <td>5</td>\n",
       "      <td>5</td>\n",
       "      <td>5</td>\n",
       "      <td>5</td>\n",
       "      <td>5</td>\n",
       "      <td>5</td>\n",
       "    </tr>\n",
       "    <tr>\n",
       "      <th>2</th>\n",
       "      <td>8</td>\n",
       "      <td>8</td>\n",
       "      <td>8</td>\n",
       "      <td>8</td>\n",
       "      <td>8</td>\n",
       "      <td>8</td>\n",
       "      <td>8</td>\n",
       "      <td>8</td>\n",
       "    </tr>\n",
       "    <tr>\n",
       "      <th>3</th>\n",
       "      <td>18</td>\n",
       "      <td>18</td>\n",
       "      <td>18</td>\n",
       "      <td>18</td>\n",
       "      <td>18</td>\n",
       "      <td>18</td>\n",
       "      <td>18</td>\n",
       "      <td>18</td>\n",
       "    </tr>\n",
       "    <tr>\n",
       "      <th>4</th>\n",
       "      <td>3</td>\n",
       "      <td>3</td>\n",
       "      <td>3</td>\n",
       "      <td>3</td>\n",
       "      <td>3</td>\n",
       "      <td>3</td>\n",
       "      <td>3</td>\n",
       "      <td>3</td>\n",
       "    </tr>\n",
       "    <tr>\n",
       "      <th>5</th>\n",
       "      <td>3</td>\n",
       "      <td>3</td>\n",
       "      <td>3</td>\n",
       "      <td>3</td>\n",
       "      <td>3</td>\n",
       "      <td>3</td>\n",
       "      <td>3</td>\n",
       "      <td>3</td>\n",
       "    </tr>\n",
       "    <tr>\n",
       "      <th>6</th>\n",
       "      <td>4</td>\n",
       "      <td>4</td>\n",
       "      <td>4</td>\n",
       "      <td>4</td>\n",
       "      <td>4</td>\n",
       "      <td>4</td>\n",
       "      <td>4</td>\n",
       "      <td>4</td>\n",
       "    </tr>\n",
       "    <tr>\n",
       "      <th>7</th>\n",
       "      <td>4</td>\n",
       "      <td>4</td>\n",
       "      <td>4</td>\n",
       "      <td>4</td>\n",
       "      <td>4</td>\n",
       "      <td>4</td>\n",
       "      <td>4</td>\n",
       "      <td>4</td>\n",
       "    </tr>\n",
       "    <tr>\n",
       "      <th>8</th>\n",
       "      <td>3</td>\n",
       "      <td>3</td>\n",
       "      <td>3</td>\n",
       "      <td>3</td>\n",
       "      <td>3</td>\n",
       "      <td>3</td>\n",
       "      <td>3</td>\n",
       "      <td>3</td>\n",
       "    </tr>\n",
       "    <tr>\n",
       "      <th>9</th>\n",
       "      <td>3</td>\n",
       "      <td>3</td>\n",
       "      <td>3</td>\n",
       "      <td>3</td>\n",
       "      <td>3</td>\n",
       "      <td>3</td>\n",
       "      <td>3</td>\n",
       "      <td>3</td>\n",
       "    </tr>\n",
       "    <tr>\n",
       "      <th>10</th>\n",
       "      <td>3</td>\n",
       "      <td>3</td>\n",
       "      <td>3</td>\n",
       "      <td>3</td>\n",
       "      <td>3</td>\n",
       "      <td>3</td>\n",
       "      <td>3</td>\n",
       "      <td>3</td>\n",
       "    </tr>\n",
       "    <tr>\n",
       "      <th>11</th>\n",
       "      <td>4</td>\n",
       "      <td>4</td>\n",
       "      <td>4</td>\n",
       "      <td>4</td>\n",
       "      <td>4</td>\n",
       "      <td>4</td>\n",
       "      <td>4</td>\n",
       "      <td>4</td>\n",
       "    </tr>\n",
       "    <tr>\n",
       "      <th>12</th>\n",
       "      <td>3</td>\n",
       "      <td>3</td>\n",
       "      <td>3</td>\n",
       "      <td>3</td>\n",
       "      <td>3</td>\n",
       "      <td>3</td>\n",
       "      <td>3</td>\n",
       "      <td>3</td>\n",
       "    </tr>\n",
       "    <tr>\n",
       "      <th>13</th>\n",
       "      <td>3</td>\n",
       "      <td>3</td>\n",
       "      <td>3</td>\n",
       "      <td>3</td>\n",
       "      <td>3</td>\n",
       "      <td>3</td>\n",
       "      <td>3</td>\n",
       "      <td>3</td>\n",
       "    </tr>\n",
       "    <tr>\n",
       "      <th>14</th>\n",
       "      <td>3</td>\n",
       "      <td>3</td>\n",
       "      <td>3</td>\n",
       "      <td>3</td>\n",
       "      <td>3</td>\n",
       "      <td>3</td>\n",
       "      <td>3</td>\n",
       "      <td>3</td>\n",
       "    </tr>\n",
       "    <tr>\n",
       "      <th>15</th>\n",
       "      <td>5</td>\n",
       "      <td>5</td>\n",
       "      <td>5</td>\n",
       "      <td>5</td>\n",
       "      <td>5</td>\n",
       "      <td>5</td>\n",
       "      <td>5</td>\n",
       "      <td>5</td>\n",
       "    </tr>\n",
       "    <tr>\n",
       "      <th>16</th>\n",
       "      <td>4</td>\n",
       "      <td>4</td>\n",
       "      <td>4</td>\n",
       "      <td>4</td>\n",
       "      <td>4</td>\n",
       "      <td>4</td>\n",
       "      <td>4</td>\n",
       "      <td>4</td>\n",
       "    </tr>\n",
       "    <tr>\n",
       "      <th>17</th>\n",
       "      <td>6</td>\n",
       "      <td>6</td>\n",
       "      <td>6</td>\n",
       "      <td>6</td>\n",
       "      <td>6</td>\n",
       "      <td>6</td>\n",
       "      <td>6</td>\n",
       "      <td>6</td>\n",
       "    </tr>\n",
       "    <tr>\n",
       "      <th>18</th>\n",
       "      <td>5</td>\n",
       "      <td>5</td>\n",
       "      <td>5</td>\n",
       "      <td>5</td>\n",
       "      <td>5</td>\n",
       "      <td>5</td>\n",
       "      <td>5</td>\n",
       "      <td>5</td>\n",
       "    </tr>\n",
       "    <tr>\n",
       "      <th>19</th>\n",
       "      <td>5</td>\n",
       "      <td>5</td>\n",
       "      <td>5</td>\n",
       "      <td>5</td>\n",
       "      <td>5</td>\n",
       "      <td>5</td>\n",
       "      <td>5</td>\n",
       "      <td>5</td>\n",
       "    </tr>\n",
       "    <tr>\n",
       "      <th>20</th>\n",
       "      <td>8</td>\n",
       "      <td>8</td>\n",
       "      <td>8</td>\n",
       "      <td>8</td>\n",
       "      <td>8</td>\n",
       "      <td>8</td>\n",
       "      <td>8</td>\n",
       "      <td>8</td>\n",
       "    </tr>\n",
       "    <tr>\n",
       "      <th>21</th>\n",
       "      <td>4</td>\n",
       "      <td>4</td>\n",
       "      <td>4</td>\n",
       "      <td>4</td>\n",
       "      <td>4</td>\n",
       "      <td>4</td>\n",
       "      <td>4</td>\n",
       "      <td>4</td>\n",
       "    </tr>\n",
       "    <tr>\n",
       "      <th>22</th>\n",
       "      <td>6</td>\n",
       "      <td>6</td>\n",
       "      <td>6</td>\n",
       "      <td>6</td>\n",
       "      <td>6</td>\n",
       "      <td>6</td>\n",
       "      <td>6</td>\n",
       "      <td>6</td>\n",
       "    </tr>\n",
       "    <tr>\n",
       "      <th>23</th>\n",
       "      <td>5</td>\n",
       "      <td>5</td>\n",
       "      <td>5</td>\n",
       "      <td>5</td>\n",
       "      <td>5</td>\n",
       "      <td>5</td>\n",
       "      <td>5</td>\n",
       "      <td>5</td>\n",
       "    </tr>\n",
       "    <tr>\n",
       "      <th>24</th>\n",
       "      <td>4</td>\n",
       "      <td>4</td>\n",
       "      <td>4</td>\n",
       "      <td>4</td>\n",
       "      <td>4</td>\n",
       "      <td>4</td>\n",
       "      <td>4</td>\n",
       "      <td>4</td>\n",
       "    </tr>\n",
       "    <tr>\n",
       "      <th>25</th>\n",
       "      <td>8</td>\n",
       "      <td>8</td>\n",
       "      <td>8</td>\n",
       "      <td>8</td>\n",
       "      <td>8</td>\n",
       "      <td>8</td>\n",
       "      <td>8</td>\n",
       "      <td>8</td>\n",
       "    </tr>\n",
       "    <tr>\n",
       "      <th>26</th>\n",
       "      <td>3</td>\n",
       "      <td>3</td>\n",
       "      <td>3</td>\n",
       "      <td>3</td>\n",
       "      <td>3</td>\n",
       "      <td>3</td>\n",
       "      <td>3</td>\n",
       "      <td>3</td>\n",
       "    </tr>\n",
       "    <tr>\n",
       "      <th>27</th>\n",
       "      <td>4</td>\n",
       "      <td>4</td>\n",
       "      <td>4</td>\n",
       "      <td>4</td>\n",
       "      <td>4</td>\n",
       "      <td>4</td>\n",
       "      <td>4</td>\n",
       "      <td>4</td>\n",
       "    </tr>\n",
       "    <tr>\n",
       "      <th>28</th>\n",
       "      <td>24</td>\n",
       "      <td>24</td>\n",
       "      <td>24</td>\n",
       "      <td>24</td>\n",
       "      <td>24</td>\n",
       "      <td>24</td>\n",
       "      <td>24</td>\n",
       "      <td>24</td>\n",
       "    </tr>\n",
       "    <tr>\n",
       "      <th>29</th>\n",
       "      <td>4</td>\n",
       "      <td>4</td>\n",
       "      <td>4</td>\n",
       "      <td>4</td>\n",
       "      <td>4</td>\n",
       "      <td>4</td>\n",
       "      <td>4</td>\n",
       "      <td>4</td>\n",
       "    </tr>\n",
       "    <tr>\n",
       "      <th>30</th>\n",
       "      <td>6</td>\n",
       "      <td>6</td>\n",
       "      <td>6</td>\n",
       "      <td>6</td>\n",
       "      <td>6</td>\n",
       "      <td>6</td>\n",
       "      <td>6</td>\n",
       "      <td>6</td>\n",
       "    </tr>\n",
       "    <tr>\n",
       "      <th>31</th>\n",
       "      <td>3</td>\n",
       "      <td>3</td>\n",
       "      <td>3</td>\n",
       "      <td>3</td>\n",
       "      <td>3</td>\n",
       "      <td>3</td>\n",
       "      <td>3</td>\n",
       "      <td>3</td>\n",
       "    </tr>\n",
       "    <tr>\n",
       "      <th>32</th>\n",
       "      <td>4</td>\n",
       "      <td>4</td>\n",
       "      <td>4</td>\n",
       "      <td>4</td>\n",
       "      <td>4</td>\n",
       "      <td>4</td>\n",
       "      <td>4</td>\n",
       "      <td>4</td>\n",
       "    </tr>\n",
       "    <tr>\n",
       "      <th>33</th>\n",
       "      <td>4</td>\n",
       "      <td>4</td>\n",
       "      <td>4</td>\n",
       "      <td>4</td>\n",
       "      <td>4</td>\n",
       "      <td>4</td>\n",
       "      <td>4</td>\n",
       "      <td>4</td>\n",
       "    </tr>\n",
       "    <tr>\n",
       "      <th>34</th>\n",
       "      <td>3</td>\n",
       "      <td>3</td>\n",
       "      <td>3</td>\n",
       "      <td>3</td>\n",
       "      <td>3</td>\n",
       "      <td>3</td>\n",
       "      <td>3</td>\n",
       "      <td>3</td>\n",
       "    </tr>\n",
       "    <tr>\n",
       "      <th>35</th>\n",
       "      <td>5</td>\n",
       "      <td>5</td>\n",
       "      <td>5</td>\n",
       "      <td>5</td>\n",
       "      <td>5</td>\n",
       "      <td>5</td>\n",
       "      <td>5</td>\n",
       "      <td>5</td>\n",
       "    </tr>\n",
       "    <tr>\n",
       "      <th>36</th>\n",
       "      <td>4</td>\n",
       "      <td>4</td>\n",
       "      <td>4</td>\n",
       "      <td>4</td>\n",
       "      <td>4</td>\n",
       "      <td>4</td>\n",
       "      <td>4</td>\n",
       "      <td>4</td>\n",
       "    </tr>\n",
       "    <tr>\n",
       "      <th>37</th>\n",
       "      <td>3</td>\n",
       "      <td>3</td>\n",
       "      <td>3</td>\n",
       "      <td>3</td>\n",
       "      <td>3</td>\n",
       "      <td>3</td>\n",
       "      <td>3</td>\n",
       "      <td>3</td>\n",
       "    </tr>\n",
       "    <tr>\n",
       "      <th>38</th>\n",
       "      <td>4</td>\n",
       "      <td>4</td>\n",
       "      <td>4</td>\n",
       "      <td>4</td>\n",
       "      <td>4</td>\n",
       "      <td>4</td>\n",
       "      <td>4</td>\n",
       "      <td>4</td>\n",
       "    </tr>\n",
       "    <tr>\n",
       "      <th>39</th>\n",
       "      <td>3</td>\n",
       "      <td>3</td>\n",
       "      <td>3</td>\n",
       "      <td>3</td>\n",
       "      <td>3</td>\n",
       "      <td>3</td>\n",
       "      <td>3</td>\n",
       "      <td>3</td>\n",
       "    </tr>\n",
       "    <tr>\n",
       "      <th>40</th>\n",
       "      <td>4</td>\n",
       "      <td>4</td>\n",
       "      <td>4</td>\n",
       "      <td>4</td>\n",
       "      <td>4</td>\n",
       "      <td>4</td>\n",
       "      <td>4</td>\n",
       "      <td>4</td>\n",
       "    </tr>\n",
       "    <tr>\n",
       "      <th>41</th>\n",
       "      <td>6</td>\n",
       "      <td>6</td>\n",
       "      <td>6</td>\n",
       "      <td>6</td>\n",
       "      <td>6</td>\n",
       "      <td>6</td>\n",
       "      <td>6</td>\n",
       "      <td>6</td>\n",
       "    </tr>\n",
       "    <tr>\n",
       "      <th>42</th>\n",
       "      <td>3</td>\n",
       "      <td>3</td>\n",
       "      <td>3</td>\n",
       "      <td>3</td>\n",
       "      <td>3</td>\n",
       "      <td>3</td>\n",
       "      <td>3</td>\n",
       "      <td>3</td>\n",
       "    </tr>\n",
       "    <tr>\n",
       "      <th>43</th>\n",
       "      <td>3</td>\n",
       "      <td>3</td>\n",
       "      <td>3</td>\n",
       "      <td>3</td>\n",
       "      <td>3</td>\n",
       "      <td>3</td>\n",
       "      <td>3</td>\n",
       "      <td>3</td>\n",
       "    </tr>\n",
       "    <tr>\n",
       "      <th>44</th>\n",
       "      <td>3</td>\n",
       "      <td>3</td>\n",
       "      <td>3</td>\n",
       "      <td>3</td>\n",
       "      <td>3</td>\n",
       "      <td>3</td>\n",
       "      <td>3</td>\n",
       "      <td>3</td>\n",
       "    </tr>\n",
       "    <tr>\n",
       "      <th>45</th>\n",
       "      <td>3</td>\n",
       "      <td>3</td>\n",
       "      <td>3</td>\n",
       "      <td>3</td>\n",
       "      <td>3</td>\n",
       "      <td>3</td>\n",
       "      <td>3</td>\n",
       "      <td>3</td>\n",
       "    </tr>\n",
       "    <tr>\n",
       "      <th>46</th>\n",
       "      <td>5</td>\n",
       "      <td>5</td>\n",
       "      <td>5</td>\n",
       "      <td>5</td>\n",
       "      <td>5</td>\n",
       "      <td>5</td>\n",
       "      <td>5</td>\n",
       "      <td>5</td>\n",
       "    </tr>\n",
       "    <tr>\n",
       "      <th>47</th>\n",
       "      <td>14</td>\n",
       "      <td>14</td>\n",
       "      <td>14</td>\n",
       "      <td>14</td>\n",
       "      <td>14</td>\n",
       "      <td>14</td>\n",
       "      <td>14</td>\n",
       "      <td>14</td>\n",
       "    </tr>\n",
       "    <tr>\n",
       "      <th>48</th>\n",
       "      <td>3</td>\n",
       "      <td>3</td>\n",
       "      <td>3</td>\n",
       "      <td>3</td>\n",
       "      <td>3</td>\n",
       "      <td>3</td>\n",
       "      <td>3</td>\n",
       "      <td>3</td>\n",
       "    </tr>\n",
       "    <tr>\n",
       "      <th>49</th>\n",
       "      <td>3</td>\n",
       "      <td>3</td>\n",
       "      <td>3</td>\n",
       "      <td>3</td>\n",
       "      <td>3</td>\n",
       "      <td>3</td>\n",
       "      <td>3</td>\n",
       "      <td>3</td>\n",
       "    </tr>\n",
       "    <tr>\n",
       "      <th>50</th>\n",
       "      <td>6</td>\n",
       "      <td>6</td>\n",
       "      <td>6</td>\n",
       "      <td>6</td>\n",
       "      <td>6</td>\n",
       "      <td>6</td>\n",
       "      <td>6</td>\n",
       "      <td>6</td>\n",
       "    </tr>\n",
       "    <tr>\n",
       "      <th>51</th>\n",
       "      <td>3</td>\n",
       "      <td>3</td>\n",
       "      <td>3</td>\n",
       "      <td>3</td>\n",
       "      <td>3</td>\n",
       "      <td>3</td>\n",
       "      <td>3</td>\n",
       "      <td>3</td>\n",
       "    </tr>\n",
       "  </tbody>\n",
       "</table>\n",
       "</div>"
      ],
      "text/plain": [
       "                time  text  no_punct  tokenized  analyze_text  tf_idf_cluster  \\\n",
       "optics_cluster                                                                  \n",
       "-1               423   423       423        423           423             423   \n",
       " 0                 9     9         9          9             9               9   \n",
       " 1                 5     5         5          5             5               5   \n",
       " 2                 8     8         8          8             8               8   \n",
       " 3                18    18        18         18            18              18   \n",
       " 4                 3     3         3          3             3               3   \n",
       " 5                 3     3         3          3             3               3   \n",
       " 6                 4     4         4          4             4               4   \n",
       " 7                 4     4         4          4             4               4   \n",
       " 8                 3     3         3          3             3               3   \n",
       " 9                 3     3         3          3             3               3   \n",
       " 10                3     3         3          3             3               3   \n",
       " 11                4     4         4          4             4               4   \n",
       " 12                3     3         3          3             3               3   \n",
       " 13                3     3         3          3             3               3   \n",
       " 14                3     3         3          3             3               3   \n",
       " 15                5     5         5          5             5               5   \n",
       " 16                4     4         4          4             4               4   \n",
       " 17                6     6         6          6             6               6   \n",
       " 18                5     5         5          5             5               5   \n",
       " 19                5     5         5          5             5               5   \n",
       " 20                8     8         8          8             8               8   \n",
       " 21                4     4         4          4             4               4   \n",
       " 22                6     6         6          6             6               6   \n",
       " 23                5     5         5          5             5               5   \n",
       " 24                4     4         4          4             4               4   \n",
       " 25                8     8         8          8             8               8   \n",
       " 26                3     3         3          3             3               3   \n",
       " 27                4     4         4          4             4               4   \n",
       " 28               24    24        24         24            24              24   \n",
       " 29                4     4         4          4             4               4   \n",
       " 30                6     6         6          6             6               6   \n",
       " 31                3     3         3          3             3               3   \n",
       " 32                4     4         4          4             4               4   \n",
       " 33                4     4         4          4             4               4   \n",
       " 34                3     3         3          3             3               3   \n",
       " 35                5     5         5          5             5               5   \n",
       " 36                4     4         4          4             4               4   \n",
       " 37                3     3         3          3             3               3   \n",
       " 38                4     4         4          4             4               4   \n",
       " 39                3     3         3          3             3               3   \n",
       " 40                4     4         4          4             4               4   \n",
       " 41                6     6         6          6             6               6   \n",
       " 42                3     3         3          3             3               3   \n",
       " 43                3     3         3          3             3               3   \n",
       " 44                3     3         3          3             3               3   \n",
       " 45                3     3         3          3             3               3   \n",
       " 46                5     5         5          5             5               5   \n",
       " 47               14    14        14         14            14              14   \n",
       " 48                3     3         3          3             3               3   \n",
       " 49                3     3         3          3             3               3   \n",
       " 50                6     6         6          6             6               6   \n",
       " 51                3     3         3          3             3               3   \n",
       "\n",
       "                dbscan_cluster  ap_cluster  \n",
       "optics_cluster                              \n",
       "-1                         423         423  \n",
       " 0                           9           9  \n",
       " 1                           5           5  \n",
       " 2                           8           8  \n",
       " 3                          18          18  \n",
       " 4                           3           3  \n",
       " 5                           3           3  \n",
       " 6                           4           4  \n",
       " 7                           4           4  \n",
       " 8                           3           3  \n",
       " 9                           3           3  \n",
       " 10                          3           3  \n",
       " 11                          4           4  \n",
       " 12                          3           3  \n",
       " 13                          3           3  \n",
       " 14                          3           3  \n",
       " 15                          5           5  \n",
       " 16                          4           4  \n",
       " 17                          6           6  \n",
       " 18                          5           5  \n",
       " 19                          5           5  \n",
       " 20                          8           8  \n",
       " 21                          4           4  \n",
       " 22                          6           6  \n",
       " 23                          5           5  \n",
       " 24                          4           4  \n",
       " 25                          8           8  \n",
       " 26                          3           3  \n",
       " 27                          4           4  \n",
       " 28                         24          24  \n",
       " 29                          4           4  \n",
       " 30                          6           6  \n",
       " 31                          3           3  \n",
       " 32                          4           4  \n",
       " 33                          4           4  \n",
       " 34                          3           3  \n",
       " 35                          5           5  \n",
       " 36                          4           4  \n",
       " 37                          3           3  \n",
       " 38                          4           4  \n",
       " 39                          3           3  \n",
       " 40                          4           4  \n",
       " 41                          6           6  \n",
       " 42                          3           3  \n",
       " 43                          3           3  \n",
       " 44                          3           3  \n",
       " 45                          3           3  \n",
       " 46                          5           5  \n",
       " 47                         14          14  \n",
       " 48                          3           3  \n",
       " 49                          3           3  \n",
       " 50                          6           6  \n",
       " 51                          3           3  "
      ]
     },
     "execution_count": 309,
     "metadata": {},
     "output_type": "execute_result"
    }
   ],
   "source": [
    "df['optics_cluster']=tfidf_optics.labels_\n",
    "optics_grouped=df.groupby(df['optics_cluster']).count()\n",
    "optics_grouped"
   ]
  },
  {
   "cell_type": "code",
   "execution_count": 236,
   "metadata": {},
   "outputs": [
    {
     "data": {
      "text/html": [
       "<div>\n",
       "<style scoped>\n",
       "    .dataframe tbody tr th:only-of-type {\n",
       "        vertical-align: middle;\n",
       "    }\n",
       "\n",
       "    .dataframe tbody tr th {\n",
       "        vertical-align: top;\n",
       "    }\n",
       "\n",
       "    .dataframe thead th {\n",
       "        text-align: right;\n",
       "    }\n",
       "</style>\n",
       "<table border=\"1\" class=\"dataframe\">\n",
       "  <thead>\n",
       "    <tr style=\"text-align: right;\">\n",
       "      <th></th>\n",
       "      <th>time</th>\n",
       "      <th>text</th>\n",
       "      <th>no_punct</th>\n",
       "      <th>tokenized</th>\n",
       "      <th>analyze_text</th>\n",
       "      <th>tf_idf_cluster</th>\n",
       "    </tr>\n",
       "  </thead>\n",
       "  <tbody>\n",
       "    <tr>\n",
       "      <th>45</th>\n",
       "      <td>176</td>\n",
       "      <td>equation from another equation, I'm not changi...</td>\n",
       "      <td>equation from another equation im not changing...</td>\n",
       "      <td>[equation, from, another, equation, im, not, c...</td>\n",
       "      <td>[equation, another, equation, im, changing, so...</td>\n",
       "      <td>5</td>\n",
       "    </tr>\n",
       "    <tr>\n",
       "      <th>52</th>\n",
       "      <td>200</td>\n",
       "      <td>I'm doing a legitimate operations on the equat...</td>\n",
       "      <td>im doing a legitimate operations on the equations</td>\n",
       "      <td>[im, doing, a, legitimate, operations, on, the...</td>\n",
       "      <td>[im, legitimate, operation, equation]</td>\n",
       "      <td>5</td>\n",
       "    </tr>\n",
       "    <tr>\n",
       "      <th>129</th>\n",
       "      <td>467</td>\n",
       "      <td>I had three equations in four unknowns.</td>\n",
       "      <td>i had three equations in four unknowns</td>\n",
       "      <td>[i, had, three, equations, in, four, unknowns]</td>\n",
       "      <td>[three, equation, four, unknown]</td>\n",
       "      <td>5</td>\n",
       "    </tr>\n",
       "    <tr>\n",
       "      <th>149</th>\n",
       "      <td>550</td>\n",
       "      <td>And then I can solve the equations for x1 and x3.</td>\n",
       "      <td>and then i can solve the equations for x1 and x3</td>\n",
       "      <td>[and, then, i, can, solve, the, equations, for...</td>\n",
       "      <td>[solve, equation, x1, x3]</td>\n",
       "      <td>5</td>\n",
       "    </tr>\n",
       "    <tr>\n",
       "      <th>163</th>\n",
       "      <td>593</td>\n",
       "      <td>What are my equations?</td>\n",
       "      <td>what are my equations</td>\n",
       "      <td>[what, are, my, equations]</td>\n",
       "      <td>[equation]</td>\n",
       "      <td>5</td>\n",
       "    </tr>\n",
       "    <tr>\n",
       "      <th>164</th>\n",
       "      <td>594</td>\n",
       "      <td>That first equation is x1 plus just --</td>\n",
       "      <td>that first equation is x1 plus just</td>\n",
       "      <td>[that, first, equation, is, x1, plus, just, ]</td>\n",
       "      <td>[first, equation, x1, plus, ]</td>\n",
       "      <td>5</td>\n",
       "    </tr>\n",
       "    <tr>\n",
       "      <th>166</th>\n",
       "      <td>605</td>\n",
       "      <td>That's the first equation.</td>\n",
       "      <td>thats the first equation</td>\n",
       "      <td>[thats, the, first, equation]</td>\n",
       "      <td>[thats, first, equation]</td>\n",
       "      <td>5</td>\n",
       "    </tr>\n",
       "    <tr>\n",
       "      <th>167</th>\n",
       "      <td>607</td>\n",
       "      <td>And the second equation was 2x3 + 4x4=0.</td>\n",
       "      <td>and the second equation was 2x3  4x40</td>\n",
       "      <td>[and, the, second, equation, was, 2x3, 4x40]</td>\n",
       "      <td>[second, equation, 2x3, 4x40]</td>\n",
       "      <td>5</td>\n",
       "    </tr>\n",
       "    <tr>\n",
       "      <th>168</th>\n",
       "      <td>614</td>\n",
       "      <td>Those are my two equations.</td>\n",
       "      <td>those are my two equations</td>\n",
       "      <td>[those, are, my, two, equations]</td>\n",
       "      <td>[two, equation]</td>\n",
       "      <td>5</td>\n",
       "    </tr>\n",
       "    <tr>\n",
       "      <th>178</th>\n",
       "      <td>642</td>\n",
       "      <td>I look at the last equation.</td>\n",
       "      <td>i look at the last equation</td>\n",
       "      <td>[i, look, at, the, last, equation]</td>\n",
       "      <td>[look, last, equation]</td>\n",
       "      <td>5</td>\n",
       "    </tr>\n",
       "    <tr>\n",
       "      <th>179</th>\n",
       "      <td>645</td>\n",
       "      <td>x3 is zero, from the last equation,</td>\n",
       "      <td>x3 is zero from the last equation</td>\n",
       "      <td>[x3, is, zero, from, the, last, equation]</td>\n",
       "      <td>[x3, zero, last, equation]</td>\n",
       "      <td>5</td>\n",
       "    </tr>\n",
       "    <tr>\n",
       "      <th>239</th>\n",
       "      <td>832</td>\n",
       "      <td>looking at this equation.</td>\n",
       "      <td>looking at this equation</td>\n",
       "      <td>[looking, at, this, equation]</td>\n",
       "      <td>[looking, equation]</td>\n",
       "      <td>5</td>\n",
       "    </tr>\n",
       "    <tr>\n",
       "      <th>243</th>\n",
       "      <td>846</td>\n",
       "      <td>And now what do I get for that first equation?</td>\n",
       "      <td>and now what do i get for that first equation</td>\n",
       "      <td>[and, now, what, do, i, get, for, that, first,...</td>\n",
       "      <td>[get, first, equation]</td>\n",
       "      <td>5</td>\n",
       "    </tr>\n",
       "    <tr>\n",
       "      <th>304</th>\n",
       "      <td>1080</td>\n",
       "      <td>There looked like three equations,</td>\n",
       "      <td>there looked like three equations</td>\n",
       "      <td>[there, looked, like, three, equations]</td>\n",
       "      <td>[looked, like, three, equation]</td>\n",
       "      <td>5</td>\n",
       "    </tr>\n",
       "    <tr>\n",
       "      <th>355</th>\n",
       "      <td>1297</td>\n",
       "      <td>divide equation two by the pivot.</td>\n",
       "      <td>divide equation two by the pivot</td>\n",
       "      <td>[divide, equation, two, by, the, pivot]</td>\n",
       "      <td>[divide, equation, two, pivot]</td>\n",
       "      <td>5</td>\n",
       "    </tr>\n",
       "    <tr>\n",
       "      <th>361</th>\n",
       "      <td>1313</td>\n",
       "      <td>I divided the second equation by two,</td>\n",
       "      <td>i divided the second equation by two</td>\n",
       "      <td>[i, divided, the, second, equation, by, two]</td>\n",
       "      <td>[divided, second, equation, two]</td>\n",
       "      <td>5</td>\n",
       "    </tr>\n",
       "    <tr>\n",
       "      <th>398</th>\n",
       "      <td>1483</td>\n",
       "      <td>In these equations, what did I do?</td>\n",
       "      <td>in these equations what did i do</td>\n",
       "      <td>[in, these, equations, what, did, i, do]</td>\n",
       "      <td>[equation]</td>\n",
       "      <td>5</td>\n",
       "    </tr>\n",
       "    <tr>\n",
       "      <th>399</th>\n",
       "      <td>1485</td>\n",
       "      <td>I divided this equation by two and, oh yeah</td>\n",
       "      <td>i divided this equation by two and oh yeah</td>\n",
       "      <td>[i, divided, this, equation, by, two, and, oh,...</td>\n",
       "      <td>[divided, equation, two, oh, yeah]</td>\n",
       "      <td>5</td>\n",
       "    </tr>\n",
       "    <tr>\n",
       "      <th>410</th>\n",
       "      <td>1533</td>\n",
       "      <td>I just multiplied equations and subtracted</td>\n",
       "      <td>i just multiplied equations and subtracted</td>\n",
       "      <td>[i, just, multiplied, equations, and, subtracted]</td>\n",
       "      <td>[multiplied, equation, subtracted]</td>\n",
       "      <td>5</td>\n",
       "    </tr>\n",
       "    <tr>\n",
       "      <th>411</th>\n",
       "      <td>1536</td>\n",
       "      <td>from other equations, which I'm allowed to do.</td>\n",
       "      <td>from other equations which im allowed to do</td>\n",
       "      <td>[from, other, equations, which, im, allowed, t...</td>\n",
       "      <td>[equation, im, allowed]</td>\n",
       "      <td>5</td>\n",
       "    </tr>\n",
       "    <tr>\n",
       "      <th>440</th>\n",
       "      <td>1649</td>\n",
       "      <td>because they pop onto the other side of the eq...</td>\n",
       "      <td>because they pop onto the other side of the eq...</td>\n",
       "      <td>[because, they, pop, onto, the, other, side, o...</td>\n",
       "      <td>[pop, onto, side, equation, ]</td>\n",
       "      <td>5</td>\n",
       "    </tr>\n",
       "    <tr>\n",
       "      <th>516</th>\n",
       "      <td>1957</td>\n",
       "      <td>There's my, equation, as simple as it can be.</td>\n",
       "      <td>theres my equation as simple as it can be</td>\n",
       "      <td>[theres, my, equation, as, simple, as, it, can...</td>\n",
       "      <td>[there, equation, simple]</td>\n",
       "      <td>5</td>\n",
       "    </tr>\n",
       "    <tr>\n",
       "      <th>612</th>\n",
       "      <td>2316</td>\n",
       "      <td>you see w- my two equations now are --</td>\n",
       "      <td>you see w my two equations now are</td>\n",
       "      <td>[you, see, w, my, two, equations, now, are, ]</td>\n",
       "      <td>[see, w, two, equation, ]</td>\n",
       "      <td>5</td>\n",
       "    </tr>\n",
       "    <tr>\n",
       "      <th>613</th>\n",
       "      <td>2319</td>\n",
       "      <td>my equations are x1+ 2x2+ 3 x3 is zero,</td>\n",
       "      <td>my equations are x1 2x2 3 x3 is zero</td>\n",
       "      <td>[my, equations, are, x1, 2x2, 3, x3, is, zero]</td>\n",
       "      <td>[equation, x1, 2x2, 3, x3, zero]</td>\n",
       "      <td>5</td>\n",
       "    </tr>\n",
       "    <tr>\n",
       "      <th>614</th>\n",
       "      <td>2325</td>\n",
       "      <td>that's my first equation.</td>\n",
       "      <td>thats my first equation</td>\n",
       "      <td>[thats, my, first, equation]</td>\n",
       "      <td>[thats, first, equation]</td>\n",
       "      <td>5</td>\n",
       "    </tr>\n",
       "    <tr>\n",
       "      <th>615</th>\n",
       "      <td>2327</td>\n",
       "      <td>And my second equation is now 2x2+2x3 equals z...</td>\n",
       "      <td>and my second equation is now 2x22x3 equals zero</td>\n",
       "      <td>[and, my, second, equation, is, now, 2x22x3, e...</td>\n",
       "      <td>[second, equation, 2x22x3, equal, zero]</td>\n",
       "      <td>5</td>\n",
       "    </tr>\n",
       "    <tr>\n",
       "      <th>658</th>\n",
       "      <td>2472</td>\n",
       "      <td>So for the R matrix, I'll divide this equation...</td>\n",
       "      <td>so for the r matrix ill divide this equation b...</td>\n",
       "      <td>[so, for, the, r, matrix, ill, divide, this, e...</td>\n",
       "      <td>[r, matrix, ill, divide, equation, two]</td>\n",
       "      <td>5</td>\n",
       "    </tr>\n",
       "  </tbody>\n",
       "</table>\n",
       "</div>"
      ],
      "text/plain": [
       "     time                                               text  \\\n",
       "45    176  equation from another equation, I'm not changi...   \n",
       "52    200  I'm doing a legitimate operations on the equat...   \n",
       "129   467            I had three equations in four unknowns.   \n",
       "149   550  And then I can solve the equations for x1 and x3.   \n",
       "163   593                             What are my equations?   \n",
       "164   594             That first equation is x1 plus just --   \n",
       "166   605                         That's the first equation.   \n",
       "167   607           And the second equation was 2x3 + 4x4=0.   \n",
       "168   614                        Those are my two equations.   \n",
       "178   642                       I look at the last equation.   \n",
       "179   645                x3 is zero, from the last equation,   \n",
       "239   832                          looking at this equation.   \n",
       "243   846     And now what do I get for that first equation?   \n",
       "304  1080                 There looked like three equations,   \n",
       "355  1297                  divide equation two by the pivot.   \n",
       "361  1313              I divided the second equation by two,   \n",
       "398  1483                 In these equations, what did I do?   \n",
       "399  1485        I divided this equation by two and, oh yeah   \n",
       "410  1533         I just multiplied equations and subtracted   \n",
       "411  1536     from other equations, which I'm allowed to do.   \n",
       "440  1649  because they pop onto the other side of the eq...   \n",
       "516  1957      There's my, equation, as simple as it can be.   \n",
       "612  2316             you see w- my two equations now are --   \n",
       "613  2319            my equations are x1+ 2x2+ 3 x3 is zero,   \n",
       "614  2325                          that's my first equation.   \n",
       "615  2327  And my second equation is now 2x2+2x3 equals z...   \n",
       "658  2472  So for the R matrix, I'll divide this equation...   \n",
       "\n",
       "                                              no_punct  \\\n",
       "45   equation from another equation im not changing...   \n",
       "52   im doing a legitimate operations on the equations   \n",
       "129             i had three equations in four unknowns   \n",
       "149   and then i can solve the equations for x1 and x3   \n",
       "163                              what are my equations   \n",
       "164               that first equation is x1 plus just    \n",
       "166                           thats the first equation   \n",
       "167              and the second equation was 2x3  4x40   \n",
       "168                         those are my two equations   \n",
       "178                        i look at the last equation   \n",
       "179                  x3 is zero from the last equation   \n",
       "239                           looking at this equation   \n",
       "243      and now what do i get for that first equation   \n",
       "304                  there looked like three equations   \n",
       "355                   divide equation two by the pivot   \n",
       "361               i divided the second equation by two   \n",
       "398                   in these equations what did i do   \n",
       "399         i divided this equation by two and oh yeah   \n",
       "410         i just multiplied equations and subtracted   \n",
       "411        from other equations which im allowed to do   \n",
       "440  because they pop onto the other side of the eq...   \n",
       "516          theres my equation as simple as it can be   \n",
       "612                you see w my two equations now are    \n",
       "613               my equations are x1 2x2 3 x3 is zero   \n",
       "614                            thats my first equation   \n",
       "615   and my second equation is now 2x22x3 equals zero   \n",
       "658  so for the r matrix ill divide this equation b...   \n",
       "\n",
       "                                             tokenized  \\\n",
       "45   [equation, from, another, equation, im, not, c...   \n",
       "52   [im, doing, a, legitimate, operations, on, the...   \n",
       "129     [i, had, three, equations, in, four, unknowns]   \n",
       "149  [and, then, i, can, solve, the, equations, for...   \n",
       "163                         [what, are, my, equations]   \n",
       "164      [that, first, equation, is, x1, plus, just, ]   \n",
       "166                      [thats, the, first, equation]   \n",
       "167       [and, the, second, equation, was, 2x3, 4x40]   \n",
       "168                   [those, are, my, two, equations]   \n",
       "178                 [i, look, at, the, last, equation]   \n",
       "179          [x3, is, zero, from, the, last, equation]   \n",
       "239                      [looking, at, this, equation]   \n",
       "243  [and, now, what, do, i, get, for, that, first,...   \n",
       "304            [there, looked, like, three, equations]   \n",
       "355            [divide, equation, two, by, the, pivot]   \n",
       "361       [i, divided, the, second, equation, by, two]   \n",
       "398           [in, these, equations, what, did, i, do]   \n",
       "399  [i, divided, this, equation, by, two, and, oh,...   \n",
       "410  [i, just, multiplied, equations, and, subtracted]   \n",
       "411  [from, other, equations, which, im, allowed, t...   \n",
       "440  [because, they, pop, onto, the, other, side, o...   \n",
       "516  [theres, my, equation, as, simple, as, it, can...   \n",
       "612      [you, see, w, my, two, equations, now, are, ]   \n",
       "613     [my, equations, are, x1, 2x2, 3, x3, is, zero]   \n",
       "614                       [thats, my, first, equation]   \n",
       "615  [and, my, second, equation, is, now, 2x22x3, e...   \n",
       "658  [so, for, the, r, matrix, ill, divide, this, e...   \n",
       "\n",
       "                                          analyze_text  tf_idf_cluster  \n",
       "45   [equation, another, equation, im, changing, so...               5  \n",
       "52               [im, legitimate, operation, equation]               5  \n",
       "129                   [three, equation, four, unknown]               5  \n",
       "149                          [solve, equation, x1, x3]               5  \n",
       "163                                         [equation]               5  \n",
       "164                      [first, equation, x1, plus, ]               5  \n",
       "166                           [thats, first, equation]               5  \n",
       "167                      [second, equation, 2x3, 4x40]               5  \n",
       "168                                    [two, equation]               5  \n",
       "178                             [look, last, equation]               5  \n",
       "179                         [x3, zero, last, equation]               5  \n",
       "239                                [looking, equation]               5  \n",
       "243                             [get, first, equation]               5  \n",
       "304                    [looked, like, three, equation]               5  \n",
       "355                     [divide, equation, two, pivot]               5  \n",
       "361                   [divided, second, equation, two]               5  \n",
       "398                                         [equation]               5  \n",
       "399                 [divided, equation, two, oh, yeah]               5  \n",
       "410                 [multiplied, equation, subtracted]               5  \n",
       "411                            [equation, im, allowed]               5  \n",
       "440                      [pop, onto, side, equation, ]               5  \n",
       "516                          [there, equation, simple]               5  \n",
       "612                          [see, w, two, equation, ]               5  \n",
       "613                   [equation, x1, 2x2, 3, x3, zero]               5  \n",
       "614                           [thats, first, equation]               5  \n",
       "615            [second, equation, 2x22x3, equal, zero]               5  \n",
       "658            [r, matrix, ill, divide, equation, two]               5  "
      ]
     },
     "execution_count": 236,
     "metadata": {},
     "output_type": "execute_result"
    }
   ],
   "source": [
    "df[df['tf_idf_cluster']==5]"
   ]
  },
  {
   "cell_type": "code",
   "execution_count": 250,
   "metadata": {},
   "outputs": [
    {
     "data": {
      "text/html": [
       "<div>\n",
       "<style scoped>\n",
       "    .dataframe tbody tr th:only-of-type {\n",
       "        vertical-align: middle;\n",
       "    }\n",
       "\n",
       "    .dataframe tbody tr th {\n",
       "        vertical-align: top;\n",
       "    }\n",
       "\n",
       "    .dataframe thead th {\n",
       "        text-align: right;\n",
       "    }\n",
       "</style>\n",
       "<table border=\"1\" class=\"dataframe\">\n",
       "  <thead>\n",
       "    <tr style=\"text-align: right;\">\n",
       "      <th></th>\n",
       "      <th>time</th>\n",
       "      <th>text</th>\n",
       "      <th>no_punct</th>\n",
       "      <th>tokenized</th>\n",
       "      <th>analyze_text</th>\n",
       "    </tr>\n",
       "    <tr>\n",
       "      <th>tf_idf_cluster</th>\n",
       "      <th></th>\n",
       "      <th></th>\n",
       "      <th></th>\n",
       "      <th></th>\n",
       "      <th></th>\n",
       "    </tr>\n",
       "  </thead>\n",
       "  <tbody>\n",
       "    <tr>\n",
       "      <th>0</th>\n",
       "      <td>8</td>\n",
       "      <td>8</td>\n",
       "      <td>8</td>\n",
       "      <td>8</td>\n",
       "      <td>8</td>\n",
       "    </tr>\n",
       "    <tr>\n",
       "      <th>1</th>\n",
       "      <td>20</td>\n",
       "      <td>20</td>\n",
       "      <td>20</td>\n",
       "      <td>20</td>\n",
       "      <td>20</td>\n",
       "    </tr>\n",
       "    <tr>\n",
       "      <th>2</th>\n",
       "      <td>19</td>\n",
       "      <td>19</td>\n",
       "      <td>19</td>\n",
       "      <td>19</td>\n",
       "      <td>19</td>\n",
       "    </tr>\n",
       "    <tr>\n",
       "      <th>3</th>\n",
       "      <td>14</td>\n",
       "      <td>14</td>\n",
       "      <td>14</td>\n",
       "      <td>14</td>\n",
       "      <td>14</td>\n",
       "    </tr>\n",
       "    <tr>\n",
       "      <th>4</th>\n",
       "      <td>29</td>\n",
       "      <td>29</td>\n",
       "      <td>29</td>\n",
       "      <td>29</td>\n",
       "      <td>29</td>\n",
       "    </tr>\n",
       "    <tr>\n",
       "      <th>5</th>\n",
       "      <td>8</td>\n",
       "      <td>8</td>\n",
       "      <td>8</td>\n",
       "      <td>8</td>\n",
       "      <td>8</td>\n",
       "    </tr>\n",
       "    <tr>\n",
       "      <th>6</th>\n",
       "      <td>9</td>\n",
       "      <td>9</td>\n",
       "      <td>9</td>\n",
       "      <td>9</td>\n",
       "      <td>9</td>\n",
       "    </tr>\n",
       "    <tr>\n",
       "      <th>7</th>\n",
       "      <td>68</td>\n",
       "      <td>68</td>\n",
       "      <td>68</td>\n",
       "      <td>68</td>\n",
       "      <td>68</td>\n",
       "    </tr>\n",
       "    <tr>\n",
       "      <th>8</th>\n",
       "      <td>16</td>\n",
       "      <td>16</td>\n",
       "      <td>16</td>\n",
       "      <td>16</td>\n",
       "      <td>16</td>\n",
       "    </tr>\n",
       "    <tr>\n",
       "      <th>9</th>\n",
       "      <td>8</td>\n",
       "      <td>8</td>\n",
       "      <td>8</td>\n",
       "      <td>8</td>\n",
       "      <td>8</td>\n",
       "    </tr>\n",
       "    <tr>\n",
       "      <th>10</th>\n",
       "      <td>6</td>\n",
       "      <td>6</td>\n",
       "      <td>6</td>\n",
       "      <td>6</td>\n",
       "      <td>6</td>\n",
       "    </tr>\n",
       "    <tr>\n",
       "      <th>11</th>\n",
       "      <td>14</td>\n",
       "      <td>14</td>\n",
       "      <td>14</td>\n",
       "      <td>14</td>\n",
       "      <td>14</td>\n",
       "    </tr>\n",
       "    <tr>\n",
       "      <th>12</th>\n",
       "      <td>3</td>\n",
       "      <td>3</td>\n",
       "      <td>3</td>\n",
       "      <td>3</td>\n",
       "      <td>3</td>\n",
       "    </tr>\n",
       "    <tr>\n",
       "      <th>13</th>\n",
       "      <td>8</td>\n",
       "      <td>8</td>\n",
       "      <td>8</td>\n",
       "      <td>8</td>\n",
       "      <td>8</td>\n",
       "    </tr>\n",
       "    <tr>\n",
       "      <th>14</th>\n",
       "      <td>15</td>\n",
       "      <td>15</td>\n",
       "      <td>15</td>\n",
       "      <td>15</td>\n",
       "      <td>15</td>\n",
       "    </tr>\n",
       "    <tr>\n",
       "      <th>15</th>\n",
       "      <td>22</td>\n",
       "      <td>22</td>\n",
       "      <td>22</td>\n",
       "      <td>22</td>\n",
       "      <td>22</td>\n",
       "    </tr>\n",
       "    <tr>\n",
       "      <th>16</th>\n",
       "      <td>20</td>\n",
       "      <td>20</td>\n",
       "      <td>20</td>\n",
       "      <td>20</td>\n",
       "      <td>20</td>\n",
       "    </tr>\n",
       "    <tr>\n",
       "      <th>17</th>\n",
       "      <td>15</td>\n",
       "      <td>15</td>\n",
       "      <td>15</td>\n",
       "      <td>15</td>\n",
       "      <td>15</td>\n",
       "    </tr>\n",
       "    <tr>\n",
       "      <th>18</th>\n",
       "      <td>11</td>\n",
       "      <td>11</td>\n",
       "      <td>11</td>\n",
       "      <td>11</td>\n",
       "      <td>11</td>\n",
       "    </tr>\n",
       "    <tr>\n",
       "      <th>19</th>\n",
       "      <td>27</td>\n",
       "      <td>27</td>\n",
       "      <td>27</td>\n",
       "      <td>27</td>\n",
       "      <td>27</td>\n",
       "    </tr>\n",
       "    <tr>\n",
       "      <th>20</th>\n",
       "      <td>39</td>\n",
       "      <td>39</td>\n",
       "      <td>39</td>\n",
       "      <td>39</td>\n",
       "      <td>39</td>\n",
       "    </tr>\n",
       "    <tr>\n",
       "      <th>21</th>\n",
       "      <td>12</td>\n",
       "      <td>12</td>\n",
       "      <td>12</td>\n",
       "      <td>12</td>\n",
       "      <td>12</td>\n",
       "    </tr>\n",
       "    <tr>\n",
       "      <th>22</th>\n",
       "      <td>23</td>\n",
       "      <td>23</td>\n",
       "      <td>23</td>\n",
       "      <td>23</td>\n",
       "      <td>23</td>\n",
       "    </tr>\n",
       "    <tr>\n",
       "      <th>23</th>\n",
       "      <td>7</td>\n",
       "      <td>7</td>\n",
       "      <td>7</td>\n",
       "      <td>7</td>\n",
       "      <td>7</td>\n",
       "    </tr>\n",
       "    <tr>\n",
       "      <th>24</th>\n",
       "      <td>7</td>\n",
       "      <td>7</td>\n",
       "      <td>7</td>\n",
       "      <td>7</td>\n",
       "      <td>7</td>\n",
       "    </tr>\n",
       "    <tr>\n",
       "      <th>25</th>\n",
       "      <td>15</td>\n",
       "      <td>15</td>\n",
       "      <td>15</td>\n",
       "      <td>15</td>\n",
       "      <td>15</td>\n",
       "    </tr>\n",
       "    <tr>\n",
       "      <th>26</th>\n",
       "      <td>6</td>\n",
       "      <td>6</td>\n",
       "      <td>6</td>\n",
       "      <td>6</td>\n",
       "      <td>6</td>\n",
       "    </tr>\n",
       "    <tr>\n",
       "      <th>27</th>\n",
       "      <td>22</td>\n",
       "      <td>22</td>\n",
       "      <td>22</td>\n",
       "      <td>22</td>\n",
       "      <td>22</td>\n",
       "    </tr>\n",
       "    <tr>\n",
       "      <th>28</th>\n",
       "      <td>11</td>\n",
       "      <td>11</td>\n",
       "      <td>11</td>\n",
       "      <td>11</td>\n",
       "      <td>11</td>\n",
       "    </tr>\n",
       "    <tr>\n",
       "      <th>29</th>\n",
       "      <td>5</td>\n",
       "      <td>5</td>\n",
       "      <td>5</td>\n",
       "      <td>5</td>\n",
       "      <td>5</td>\n",
       "    </tr>\n",
       "    <tr>\n",
       "      <th>30</th>\n",
       "      <td>5</td>\n",
       "      <td>5</td>\n",
       "      <td>5</td>\n",
       "      <td>5</td>\n",
       "      <td>5</td>\n",
       "    </tr>\n",
       "    <tr>\n",
       "      <th>31</th>\n",
       "      <td>7</td>\n",
       "      <td>7</td>\n",
       "      <td>7</td>\n",
       "      <td>7</td>\n",
       "      <td>7</td>\n",
       "    </tr>\n",
       "    <tr>\n",
       "      <th>32</th>\n",
       "      <td>2</td>\n",
       "      <td>2</td>\n",
       "      <td>2</td>\n",
       "      <td>2</td>\n",
       "      <td>2</td>\n",
       "    </tr>\n",
       "    <tr>\n",
       "      <th>33</th>\n",
       "      <td>2</td>\n",
       "      <td>2</td>\n",
       "      <td>2</td>\n",
       "      <td>2</td>\n",
       "      <td>2</td>\n",
       "    </tr>\n",
       "    <tr>\n",
       "      <th>34</th>\n",
       "      <td>20</td>\n",
       "      <td>20</td>\n",
       "      <td>20</td>\n",
       "      <td>20</td>\n",
       "      <td>20</td>\n",
       "    </tr>\n",
       "    <tr>\n",
       "      <th>35</th>\n",
       "      <td>19</td>\n",
       "      <td>19</td>\n",
       "      <td>19</td>\n",
       "      <td>19</td>\n",
       "      <td>19</td>\n",
       "    </tr>\n",
       "    <tr>\n",
       "      <th>36</th>\n",
       "      <td>8</td>\n",
       "      <td>8</td>\n",
       "      <td>8</td>\n",
       "      <td>8</td>\n",
       "      <td>8</td>\n",
       "    </tr>\n",
       "    <tr>\n",
       "      <th>37</th>\n",
       "      <td>10</td>\n",
       "      <td>10</td>\n",
       "      <td>10</td>\n",
       "      <td>10</td>\n",
       "      <td>10</td>\n",
       "    </tr>\n",
       "    <tr>\n",
       "      <th>38</th>\n",
       "      <td>15</td>\n",
       "      <td>15</td>\n",
       "      <td>15</td>\n",
       "      <td>15</td>\n",
       "      <td>15</td>\n",
       "    </tr>\n",
       "    <tr>\n",
       "      <th>39</th>\n",
       "      <td>14</td>\n",
       "      <td>14</td>\n",
       "      <td>14</td>\n",
       "      <td>14</td>\n",
       "      <td>14</td>\n",
       "    </tr>\n",
       "    <tr>\n",
       "      <th>40</th>\n",
       "      <td>5</td>\n",
       "      <td>5</td>\n",
       "      <td>5</td>\n",
       "      <td>5</td>\n",
       "      <td>5</td>\n",
       "    </tr>\n",
       "    <tr>\n",
       "      <th>41</th>\n",
       "      <td>8</td>\n",
       "      <td>8</td>\n",
       "      <td>8</td>\n",
       "      <td>8</td>\n",
       "      <td>8</td>\n",
       "    </tr>\n",
       "    <tr>\n",
       "      <th>42</th>\n",
       "      <td>7</td>\n",
       "      <td>7</td>\n",
       "      <td>7</td>\n",
       "      <td>7</td>\n",
       "      <td>7</td>\n",
       "    </tr>\n",
       "    <tr>\n",
       "      <th>43</th>\n",
       "      <td>9</td>\n",
       "      <td>9</td>\n",
       "      <td>9</td>\n",
       "      <td>9</td>\n",
       "      <td>9</td>\n",
       "    </tr>\n",
       "    <tr>\n",
       "      <th>44</th>\n",
       "      <td>10</td>\n",
       "      <td>10</td>\n",
       "      <td>10</td>\n",
       "      <td>10</td>\n",
       "      <td>10</td>\n",
       "    </tr>\n",
       "    <tr>\n",
       "      <th>45</th>\n",
       "      <td>4</td>\n",
       "      <td>4</td>\n",
       "      <td>4</td>\n",
       "      <td>4</td>\n",
       "      <td>4</td>\n",
       "    </tr>\n",
       "    <tr>\n",
       "      <th>46</th>\n",
       "      <td>29</td>\n",
       "      <td>29</td>\n",
       "      <td>29</td>\n",
       "      <td>29</td>\n",
       "      <td>29</td>\n",
       "    </tr>\n",
       "    <tr>\n",
       "      <th>47</th>\n",
       "      <td>5</td>\n",
       "      <td>5</td>\n",
       "      <td>5</td>\n",
       "      <td>5</td>\n",
       "      <td>5</td>\n",
       "    </tr>\n",
       "    <tr>\n",
       "      <th>48</th>\n",
       "      <td>9</td>\n",
       "      <td>9</td>\n",
       "      <td>9</td>\n",
       "      <td>9</td>\n",
       "      <td>9</td>\n",
       "    </tr>\n",
       "    <tr>\n",
       "      <th>49</th>\n",
       "      <td>14</td>\n",
       "      <td>14</td>\n",
       "      <td>14</td>\n",
       "      <td>14</td>\n",
       "      <td>14</td>\n",
       "    </tr>\n",
       "  </tbody>\n",
       "</table>\n",
       "</div>"
      ],
      "text/plain": [
       "                time  text  no_punct  tokenized  analyze_text\n",
       "tf_idf_cluster                                               \n",
       "0                  8     8         8          8             8\n",
       "1                 20    20        20         20            20\n",
       "2                 19    19        19         19            19\n",
       "3                 14    14        14         14            14\n",
       "4                 29    29        29         29            29\n",
       "5                  8     8         8          8             8\n",
       "6                  9     9         9          9             9\n",
       "7                 68    68        68         68            68\n",
       "8                 16    16        16         16            16\n",
       "9                  8     8         8          8             8\n",
       "10                 6     6         6          6             6\n",
       "11                14    14        14         14            14\n",
       "12                 3     3         3          3             3\n",
       "13                 8     8         8          8             8\n",
       "14                15    15        15         15            15\n",
       "15                22    22        22         22            22\n",
       "16                20    20        20         20            20\n",
       "17                15    15        15         15            15\n",
       "18                11    11        11         11            11\n",
       "19                27    27        27         27            27\n",
       "20                39    39        39         39            39\n",
       "21                12    12        12         12            12\n",
       "22                23    23        23         23            23\n",
       "23                 7     7         7          7             7\n",
       "24                 7     7         7          7             7\n",
       "25                15    15        15         15            15\n",
       "26                 6     6         6          6             6\n",
       "27                22    22        22         22            22\n",
       "28                11    11        11         11            11\n",
       "29                 5     5         5          5             5\n",
       "30                 5     5         5          5             5\n",
       "31                 7     7         7          7             7\n",
       "32                 2     2         2          2             2\n",
       "33                 2     2         2          2             2\n",
       "34                20    20        20         20            20\n",
       "35                19    19        19         19            19\n",
       "36                 8     8         8          8             8\n",
       "37                10    10        10         10            10\n",
       "38                15    15        15         15            15\n",
       "39                14    14        14         14            14\n",
       "40                 5     5         5          5             5\n",
       "41                 8     8         8          8             8\n",
       "42                 7     7         7          7             7\n",
       "43                 9     9         9          9             9\n",
       "44                10    10        10         10            10\n",
       "45                 4     4         4          4             4\n",
       "46                29    29        29         29            29\n",
       "47                 5     5         5          5             5\n",
       "48                 9     9         9          9             9\n",
       "49                14    14        14         14            14"
      ]
     },
     "execution_count": 250,
     "metadata": {},
     "output_type": "execute_result"
    }
   ],
   "source": [
    "tfidf_grouped=df.groupby(df['tf_idf_cluster']).count()\n",
    "tfidf_grouped"
   ]
  },
  {
   "cell_type": "code",
   "execution_count": 251,
   "metadata": {},
   "outputs": [
    {
     "data": {
      "text/plain": [
       "(array([25., 17.,  6.,  1.,  0.,  0.,  1.,  0.,  0.,  0.,  0.,  0.,  0.,\n",
       "         0.,  0.,  0.,  0.,  0.,  0.]),\n",
       " array([  0.        ,  10.52631579,  21.05263158,  31.57894737,\n",
       "         42.10526316,  52.63157895,  63.15789474,  73.68421053,\n",
       "         84.21052632,  94.73684211, 105.26315789, 115.78947368,\n",
       "        126.31578947, 136.84210526, 147.36842105, 157.89473684,\n",
       "        168.42105263, 178.94736842, 189.47368421, 200.        ]),\n",
       " <a list of 19 Patch objects>)"
      ]
     },
     "execution_count": 251,
     "metadata": {},
     "output_type": "execute_result"
    },
    {
     "data": {
      "image/png": "[encoded data removed]",
      "text/plain": [
       "<Figure size 432x288 with 1 Axes>"
      ]
     },
     "metadata": {
      "needs_background": "light"
     },
     "output_type": "display_data"
    }
   ],
   "source": [
    "spread=tfidf_grouped['analyze_text'].tolist()\n",
    "plt.hist(spread,bins=np.linspace(0,200,20))"
   ]
  },
  {
   "cell_type": "code",
   "execution_count": 313,
   "metadata": {},
   "outputs": [
    {
     "name": "stdout",
     "output_type": "stream",
     "text": [
      "[0, 1, 15, 17, 18, 19, 20, 22, 28, 30, 35, 41, 46, 47, 50]\n"
     ]
    }
   ],
   "source": [
    "include_list=optics_grouped[optics_grouped['analyze_text']>=5].index.tolist()\n",
    "remove_list=[-1,2,3,23,25]\n",
    "include_list=[val for val in include_list if val not in remove_list]\n",
    "print(include_list)"
   ]
  },
  {
   "cell_type": "code",
   "execution_count": null,
   "metadata": {},
   "outputs": [],
   "source": []
  },
  {
   "cell_type": "code",
   "execution_count": 314,
   "metadata": {},
   "outputs": [
    {
     "name": "stdout",
     "output_type": "stream",
     "text": [
      "54                     [dont, plan, write, zero, time]\n",
      "63        [take, two, time, row, away, one, get, zero]\n",
      "75                      [course, move, second, column]\n",
      "83                [second, column, dependent, earlier]\n",
      "191    [plus, one, time, second, column, zero, column]\n",
      "Name: analyze_text, dtype: object\n",
      "0\n",
      "154                               [free, choice]\n",
      "172                 [new, thing, free, variable]\n",
      "211              [ive, got, two, free, variable]\n",
      "212    [made, choice, one, zero, free, variable]\n",
      "223                   [free, variable, assign, ]\n",
      "Name: analyze_text, dtype: object\n",
      "1\n",
      "12               [thats, null, space, im, interested]\n",
      "40                        [im, changing, null, space]\n",
      "46                        [im, changing, null, space]\n",
      "47    [actually, changing, column, space, youll, see]\n",
      "51                                      [im, thing, ]\n",
      "Name: analyze_text, dtype: object\n",
      "15\n",
      "13     [take, particular, matrix, describe]\n",
      "16             [let, take, matrix, example]\n",
      "25                  [multiple, column, one]\n",
      "61                      [take, first, step]\n",
      "200                        [take, multiple]\n",
      "Name: analyze_text, dtype: object\n",
      "17\n",
      "378                       [fact, got, identity, matrix]\n",
      "388                             [also, there, identity]\n",
      "433                           [two, circle, free, part]\n",
      "435                                    [identity, part]\n",
      "488    [im, going, put, identity, free, variable, part]\n",
      "Name: analyze_text, dtype: object\n",
      "18\n",
      "126                         [ask, describe, solution]\n",
      "130                   [certainly, expected, solution]\n",
      "158    [find, number, one, three, complete, solution]\n",
      "189                                  [fact, solution]\n",
      "226                              [complete, solution]\n",
      "Name: analyze_text, dtype: object\n",
      "19\n",
      "36    [continue, even, there, zero, pivot, position]\n",
      "62                                [pivot, row, fine]\n",
      "88                               [here, next, pivot]\n",
      "89       [there, first, pivot, there, second, pivot]\n",
      "92                        [keep, second, row, pivot]\n",
      "Name: analyze_text, dtype: object\n",
      "20\n",
      "45     [equation, another, equation, im, changing, so...\n",
      "52                 [im, legitimate, operation, equation]\n",
      "129                     [three, equation, four, unknown]\n",
      "163                                           [equation]\n",
      "164                        [first, equation, x1, plus, ]\n",
      "Name: analyze_text, dtype: object\n",
      "22\n",
      "19                      [ill, make, ill, four, column]\n",
      "99                     [would, call, matrix, u, right]\n",
      "112                       [number, call, rank, matrix]\n",
      "138                          [column, ill, call, free]\n",
      "174    [im, systematically, going, make, choice, like]\n",
      "Name: analyze_text, dtype: object\n",
      "28\n",
      "85                  [dont, stop, think]\n",
      "125    [dont, stop, back, substitution]\n",
      "531                              [dont]\n",
      "621                      [dont, like, ]\n",
      "684      [dont, think, there, anything]\n",
      "Name: analyze_text, dtype: object\n",
      "30\n",
      "17     [definitely, talking, rectangular, matrix]\n",
      "291                                [rank, r, two]\n",
      "297                  [n, variable, mean, rank, r]\n",
      "327             [ok, im, going, speak, matrix, r]\n",
      "364                                   [matrix, r]\n",
      "Name: analyze_text, dtype: object\n",
      "35\n",
      "238                   [going, back, substitution]\n",
      "394                          [back, substitution]\n",
      "414                  [back, substitution, number]\n",
      "429                          [back, substitution]\n",
      "438    [free, part, mean, im, back, substitution]\n",
      "Name: analyze_text, dtype: object\n",
      "41\n",
      "2      [specially, null, space, matrix]\n",
      "7                               [space]\n",
      "122             [solution, null, space]\n",
      "187               [vector, null, space]\n",
      "197     [ok, tell, vector, null, space]\n",
      "Name: analyze_text, dtype: object\n",
      "46\n",
      "113                      [let, put, immediately]\n",
      "282    [well, ok, let, put, crucial, plus, sign]\n",
      "487                                 [let, put, ]\n",
      "503        [put, put, one, zero, free, variable]\n",
      "514    [let, put, f, time, free, variable, side]\n",
      "Name: analyze_text, dtype: object\n",
      "47\n",
      "Series([], Name: analyze_text, dtype: object)\n",
      "50\n"
     ]
    }
   ],
   "source": [
    "for val in include_list:\n",
    "    print(df[df['tf_idf_cluster']==val]['analyze_text'][0:5])\n",
    "    print(val)"
   ]
  },
  {
   "cell_type": "code",
   "execution_count": 124,
   "metadata": {},
   "outputs": [],
   "source": [
    "def test_sizes(num_clusters,tol):\n",
    "    tfidf_kmeans=KMeans(n_clusters=num_clusters,max_iter=5000,random_state=20172017)\n",
    "    tfidf_X=tfidf_kmeans.fit(tfidf_counts)\n",
    "    df['tf_idf_cluster']=tfidf_kmeans.labels_\n",
    "    tfidf_grouped=df.groupby(df['tf_idf_cluster']).count()\n",
    "    include_list=tfidf_grouped[tfidf_grouped['analyze_text']>=tol].index.tolist()\n",
    "    return(len(include_list))"
   ]
  },
  {
   "cell_type": "code",
   "execution_count": 128,
   "metadata": {},
   "outputs": [
    {
     "name": "stdout",
     "output_type": "stream",
     "text": [
      "[0.40714285714285714, 0.3933333333333333, 0.35625, 0.31176470588235294, 0.3, 0.26842105263157895]\n"
     ]
    }
   ],
   "source": [
    "percent_reduction_list=[]\n",
    "for n in range(140,200,10):\n",
    "    percent_reduction_list.append(test_sizes(n)/n)\n",
    "print(percent_reduction_list)"
   ]
  },
  {
   "cell_type": "code",
   "execution_count": 17,
   "metadata": {},
   "outputs": [
    {
     "name": "stderr",
     "output_type": "stream",
     "text": [
      "/Users/varunpatel/opt/anaconda3/lib/python3.7/site-packages/ipykernel_launcher.py:4: RuntimeWarning: More than 20 figures have been opened. Figures created through the pyplot interface (`matplotlib.pyplot.figure`) are retained until explicitly closed and may consume too much memory. (To control this warning, see the rcParam `figure.max_open_warning`).\n",
      "  after removing the cwd from sys.path.\n"
     ]
    },
    {
     "data": {
      "image/png": "[encoded data removed]",
      "text/plain": [
       "<Figure size 432x288 with 1 Axes>"
      ]
     },
     "metadata": {
      "needs_background": "light"
     },
     "output_type": "display_data"
    },
    {
     "data": {
      "image/png": "[encoded data removed]",
      "text/plain": [
       "<Figure size 432x288 with 1 Axes>"
      ]
     },
     "metadata": {
      "needs_background": "light"
     },
     "output_type": "display_data"
    },
    {
     "data": {
      "image/png": "[encoded data removed]",
      "text/plain": [
       "<Figure size 432x288 with 1 Axes>"
      ]
     },
     "metadata": {
      "needs_background": "light"
     },
     "output_type": "display_data"
    },
    {
     "data": {
      "image/png": "[encoded data removed]",
      "text/plain": [
       "<Figure size 432x288 with 1 Axes>"
      ]
     },
     "metadata": {
      "needs_background": "light"
     },
     "output_type": "display_data"
    },
    {
     "data": {
      "image/png": "[encoded data removed]",
      "text/plain": [
       "<Figure size 432x288 with 1 Axes>"
      ]
     },
     "metadata": {
      "needs_background": "light"
     },
     "output_type": "display_data"
    },
    {
     "data": {
      "image/png": "[encoded data removed]",
      "text/plain": [
       "<Figure size 432x288 with 1 Axes>"
      ]
     },
     "metadata": {
      "needs_background": "light"
     },
     "output_type": "display_data"
    },
    {
     "data": {
      "image/png": "[encoded data removed]",
      "text/plain": [
       "<Figure size 432x288 with 1 Axes>"
      ]
     },
     "metadata": {
      "needs_background": "light"
     },
     "output_type": "display_data"
    },
    {
     "data": {
      "image/png": "[encoded data removed]",
      "text/plain": [
       "<Figure size 432x288 with 1 Axes>"
      ]
     },
     "metadata": {
      "needs_background": "light"
     },
     "output_type": "display_data"
    },
    {
     "data": {
      "image/png": "[encoded data removed]",
      "text/plain": [
       "<Figure size 432x288 with 1 Axes>"
      ]
     },
     "metadata": {
      "needs_background": "light"
     },
     "output_type": "display_data"
    },
    {
     "data": {
      "image/png": "[encoded data removed]",
      "text/plain": [
       "<Figure size 432x288 with 1 Axes>"
      ]
     },
     "metadata": {
      "needs_background": "light"
     },
     "output_type": "display_data"
    },
    {
     "data": {
      "image/png": "[encoded data removed]",
      "text/plain": [
       "<Figure size 432x288 with 1 Axes>"
      ]
     },
     "metadata": {
      "needs_background": "light"
     },
     "output_type": "display_data"
    },
    {
     "data": {
      "image/png": "[encoded data removed]",
      "text/plain": [
       "<Figure size 432x288 with 1 Axes>"
      ]
     },
     "metadata": {
      "needs_background": "light"
     },
     "output_type": "display_data"
    },
    {
     "data": {
      "image/png": "[encoded data removed]",
      "text/plain": [
       "<Figure size 432x288 with 1 Axes>"
      ]
     },
     "metadata": {
      "needs_background": "light"
     },
     "output_type": "display_data"
    },
    {
     "data": {
      "image/png": "[encoded data removed]",
      "text/plain": [
       "<Figure size 432x288 with 1 Axes>"
      ]
     },
     "metadata": {
      "needs_background": "light"
     },
     "output_type": "display_data"
    },
    {
     "data": {
      "image/png": "[encoded data removed]",
      "text/plain": [
       "<Figure size 432x288 with 1 Axes>"
      ]
     },
     "metadata": {
      "needs_background": "light"
     },
     "output_type": "display_data"
    },
    {
     "data": {
      "image/png": "[encoded data removed]",
      "text/plain": [
       "<Figure size 432x288 with 1 Axes>"
      ]
     },
     "metadata": {
      "needs_background": "light"
     },
     "output_type": "display_data"
    },
    {
     "data": {
      "image/png": "[encoded data removed]",
      "text/plain": [
       "<Figure size 432x288 with 1 Axes>"
      ]
     },
     "metadata": {
      "needs_background": "light"
     },
     "output_type": "display_data"
    },
    {
     "data": {
      "image/png": "[encoded data removed]",
      "text/plain": [
       "<Figure size 432x288 with 1 Axes>"
      ]
     },
     "metadata": {
      "needs_background": "light"
     },
     "output_type": "display_data"
    },
    {
     "data": {
      "image/png": "[encoded data removed]",
      "text/plain": [
       "<Figure size 432x288 with 1 Axes>"
      ]
     },
     "metadata": {
      "needs_background": "light"
     },
     "output_type": "display_data"
    },
    {
     "data": {
      "image/png": "[encoded data removed]",
      "text/plain": [
       "<Figure size 432x288 with 1 Axes>"
      ]
     },
     "metadata": {
      "needs_background": "light"
     },
     "output_type": "display_data"
    },
    {
     "data": {
      "image/png": "[encoded data removed]",
      "text/plain": [
       "<Figure size 432x288 with 1 Axes>"
      ]
     },
     "metadata": {
      "needs_background": "light"
     },
     "output_type": "display_data"
    },
    {
     "data": {
      "image/png": "[encoded data removed]",
      "text/plain": [
       "<Figure size 432x288 with 1 Axes>"
      ]
     },
     "metadata": {
      "needs_background": "light"
     },
     "output_type": "display_data"
    },
    {
     "data": {
      "image/png": "[encoded data removed]",
      "text/plain": [
       "<Figure size 432x288 with 1 Axes>"
      ]
     },
     "metadata": {
      "needs_background": "light"
     },
     "output_type": "display_data"
    }
   ],
   "source": [
    "bin_list=np.linspace(0,700,70)\n",
    "for num,val in enumerate(include_list):\n",
    "    values_list=df[df['tf_idf_cluster']==val].index.tolist()\n",
    "    plt.figure(num)\n",
    "    plt.title(val)\n",
    "    plt.hist(values_list,bins=bin_list)"
   ]
  },
  {
   "cell_type": "code",
   "execution_count": 315,
   "metadata": {},
   "outputs": [
    {
     "data": {
      "image/png": "[encoded data removed]",
      "text/plain": [
       "<Figure size 432x288 with 1 Axes>"
      ]
     },
     "metadata": {
      "needs_background": "light"
     },
     "output_type": "display_data"
    }
   ],
   "source": [
    "optimized_bin_list=np.linspace(1,700,70)\n",
    "overall_list=[]\n",
    "comb_list=np.zeros(69)\n",
    "for num,val in enumerate(include_list):\n",
    "    values_list=df[df['optics_cluster']==val].index.tolist()\n",
    "    plt.title(\"Combined Cluster Totals\")\n",
    "    plt.plot(num)\n",
    "    n,bins,patches=plt.hist(values_list,bins=optimized_bin_list,label=val)\n",
    "    comb_list+=n\n",
    "    overall_list.append(values_list)"
   ]
  },
  {
   "cell_type": "code",
   "execution_count": 316,
   "metadata": {},
   "outputs": [
    {
     "name": "stdout",
     "output_type": "stream",
     "text": [
      "[1. 1. 2. 1. 2. 3. 5. 2. 4. 0. 0. 0. 2. 1. 3. 3. 2. 1. 3. 1. 3. 1. 1. 3.\n",
      " 6. 0. 0. 0. 0. 2. 1. 1. 0. 0. 0. 2. 0. 0. 1. 1. 3. 3. 2. 2. 0. 2. 1. 0.\n",
      " 0. 2. 2. 3. 2. 2. 4. 4. 2. 1. 2. 1. 2. 6. 1. 0. 0. 5. 2. 2. 0.]\n"
     ]
    }
   ],
   "source": [
    "print((comb_list))"
   ]
  },
  {
   "cell_type": "code",
   "execution_count": null,
   "metadata": {},
   "outputs": [],
   "source": []
  },
  {
   "cell_type": "code",
   "execution_count": 317,
   "metadata": {},
   "outputs": [
    {
     "name": "stdout",
     "output_type": "stream",
     "text": [
      "[(48, 123), (127, 200), (166, 231), (200, 262), (231, 296), (262, 330), (411, 479), (479, 569), (523, 593), (569, 631), (631, 689), (693, 760), (794, 850), (823, 886), (992, 1081), (1254, 1337), (1477, 1561), (1519, 1601), (1561, 1630), (1603, 1673), (1673, 1764), (1840, 1917), (1879, 1965), (1920, 1999), (1965, 2052), (1999, 2092), (2052, 2135), (2092, 2163), (2135, 2188), (2190, 2270), (2270, 2347), (2304, 2375), (2443, 2508), (2483, 2553), (2511, 2583)]\n"
     ]
    }
   ],
   "source": [
    "\n",
    "locations_list=[]\n",
    "bins_size=round(bins[1]-bins[0])\n",
    "for num,value in enumerate(comb_list):\n",
    "    if value>=2:\n",
    "        lower=min(max(int(round(bins[num]-bins_size)),0),688)\n",
    "        upper=min(int(round(bins[num]+bins_size)),688)\n",
    "        locations_list.append((df['time'].iloc[lower],df['time'].iloc[upper]))\n",
    "        #print(df['time'].iloc[lower:upper+1])\n",
    "print(locations_list)\n",
    "            \n"
   ]
  },
  {
   "cell_type": "code",
   "execution_count": 318,
   "metadata": {},
   "outputs": [
    {
     "name": "stdout",
     "output_type": "stream",
     "text": [
      "[[48, 123], [127, 200], [166, 231], [200, 262], [231, 296], [262, 330], [411, 479], [479, 569], [523, 593], [569, 631], [631, 689], [693, 760], [794, 850], [823, 886], [992, 1081], [1254, 1337], [1477, 1561], [1519, 1601], [1561, 1630], [1603, 1673], [1673, 1764], [1840, 1917], [1879, 1965], [1920, 1999], [1965, 2052], [1999, 2092], [2052, 2135], [2092, 2163], [2135, 2188], [2190, 2270], [2270, 2347], [2304, 2375], [2443, 2508], [2483, 2553], [2511, 2583]]\n"
     ]
    }
   ],
   "source": [
    "\n",
    "newlist=[]\n",
    "for value1,value2 in locations_list:\n",
    "    newlist.append([value1,value2])\n",
    "                              \n",
    "print(newlist)\n",
    "    \n",
    "    \n"
   ]
  },
  {
   "cell_type": "code",
   "execution_count": 319,
   "metadata": {},
   "outputs": [
    {
     "name": "stdout",
     "output_type": "stream",
     "text": [
      "[[48, 123], [127, 330], [411, 689], [693, 760], [794, 886], [992, 1081], [1254, 1337], [1477, 1764], [1840, 2188], [2190, 2375], [2443, 2583]]\n"
     ]
    }
   ],
   "source": [
    "newlist.sort(key=lambda interval: interval[0])\n",
    "merged = [newlist[0]]\n",
    "for current in newlist:\n",
    "    previous = merged[-1]\n",
    "    if current[0] <= previous[1]:\n",
    "        previous[1] = max(previous[1], current[1])\n",
    "    else:\n",
    "        merged.append(current)\n",
    "        \n",
    "print(merged)"
   ]
  },
  {
   "cell_type": "code",
   "execution_count": 259,
   "metadata": {},
   "outputs": [
    {
     "name": "stdout",
     "output_type": "stream",
     "text": [
      "22.933333333333334\n"
     ]
    }
   ],
   "source": [
    "length=0\n",
    "for interval in merged:\n",
    "    length+=interval[1]-interval[0]\n",
    "print(length/60)\n",
    "    "
   ]
  },
  {
   "cell_type": "code",
   "execution_count": null,
   "metadata": {},
   "outputs": [],
   "source": []
  },
  {
   "cell_type": "code",
   "execution_count": null,
   "metadata": {},
   "outputs": [],
   "source": [
    "\n"
   ]
  },
  {
   "cell_type": "code",
   "execution_count": null,
   "metadata": {},
   "outputs": [],
   "source": [
    "\n",
    "    "
   ]
  },
  {
   "cell_type": "code",
   "execution_count": null,
   "metadata": {},
   "outputs": [],
   "source": []
  },
  {
   "cell_type": "code",
   "execution_count": null,
   "metadata": {},
   "outputs": [],
   "source": []
  },
  {
   "cell_type": "code",
   "execution_count": null,
   "metadata": {},
   "outputs": [],
   "source": []
  },
  {
   "cell_type": "code",
   "execution_count": null,
   "metadata": {},
   "outputs": [],
   "source": [
    "\n"
   ]
  },
  {
   "cell_type": "code",
   "execution_count": null,
   "metadata": {},
   "outputs": [],
   "source": []
  },
  {
   "cell_type": "code",
   "execution_count": 167,
   "metadata": {},
   "outputs": [],
   "source": []
  },
  {
   "cell_type": "code",
   "execution_count": null,
   "metadata": {},
   "outputs": [],
   "source": []
  },
  {
   "cell_type": "code",
   "execution_count": null,
   "metadata": {},
   "outputs": [],
   "source": []
  },
  {
   "cell_type": "code",
   "execution_count": null,
   "metadata": {},
   "outputs": [],
   "source": []
  },
  {
   "cell_type": "code",
   "execution_count": null,
   "metadata": {},
   "outputs": [],
   "source": []
  },
  {
   "cell_type": "code",
   "execution_count": null,
   "metadata": {},
   "outputs": [],
   "source": []
  }
 ],
 "metadata": {
  "kernelspec": {
   "display_name": "Python 3",
   "language": "python",
   "name": "python3"
  },
  "language_info": {
   "codemirror_mode": {
    "name": "ipython",
    "version": 3
   },
   "file_extension": ".py",
   "mimetype": "text/x-python",
   "name": "python",
   "nbconvert_exporter": "python",
   "pygments_lexer": "ipython3",
   "version": "3.7.6"
  }
 },
 "nbformat": 4,
 "nbformat_minor": 4
}
